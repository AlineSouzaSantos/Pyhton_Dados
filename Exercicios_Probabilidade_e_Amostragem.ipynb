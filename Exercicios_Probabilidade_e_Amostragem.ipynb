{
  "nbformat": 4,
  "nbformat_minor": 0,
  "metadata": {
    "colab": {
      "provenance": [],
      "authorship_tag": "ABX9TyO++ZNZmyI5zJCaT/VfktvG",
      "include_colab_link": true
    },
    "kernelspec": {
      "name": "python3",
      "display_name": "Python 3"
    },
    "language_info": {
      "name": "python"
    }
  },
  "cells": [
    {
      "cell_type": "markdown",
      "metadata": {
        "id": "view-in-github",
        "colab_type": "text"
      },
      "source": [
        "<a href=\"https://colab.research.google.com/github/AlineSouzaSantos/Pyhton_Dados/blob/master/Exercicios_Probabilidade_e_Amostragem.ipynb\" target=\"_parent\"><img src=\"https://colab.research.google.com/assets/colab-badge.svg\" alt=\"Open In Colab\"/></a>"
      ]
    },
    {
      "cell_type": "markdown",
      "source": [
        "#Exercicios Probabilidade e Amostragem\n"
      ],
      "metadata": {
        "id": "5luaX3nVD34H"
      }
    },
    {
      "cell_type": "markdown",
      "source": [
        "Você é uma pesquisadora desenvolvendo uma análise sobre as características\n",
        "da força de trabalho nos estados brasileiros. Responda as perguntas abaixo:\n",
        "1. Considere pessoas fluentes em inglês, qual a probabilidade\n",
        "complementar? Ou seja, qual a probabilidade de escolhermos uma pessoa\n",
        "aleatória e ela não ser fluente em inglês. Considere fluente quem tem o\n",
        "nível avançado."
      ],
      "metadata": {
        "id": "lc8t68h2D8z2"
      }
    },
    {
      "source": [
        "import pandas as pd\n",
        "import matplotlib.pyplot as plt\n",
        "import numpy as np\n",
        "\n",
        "df = pd.read_csv('populacao_brasileira.csv.csv')\n",
        "display(df.head())"
      ],
      "cell_type": "code",
      "metadata": {
        "colab": {
          "base_uri": "https://localhost:8080/",
          "height": 206
        },
        "id": "X3yw87FxEjja",
        "outputId": "d514cbc6-2732-403f-8c9f-699b95aabfa2"
      },
      "execution_count": 24,
      "outputs": [
        {
          "output_type": "display_data",
          "data": {
            "text/plain": [
              "   Unnamed: 0 estado  idade escolaridade nível de proficiência em inglês  \\\n",
              "0           0     MA     56  Fundamental                   Intermediário   \n",
              "1           1     BA     46     Superior                          Básico   \n",
              "2           2     AM     32  Fundamental                   Intermediário   \n",
              "3           3     CE     60     Superior                          Básico   \n",
              "4           4     SE     25  Fundamental                        Avançado   \n",
              "\n",
              "     renda sexo  \n",
              "0  4006.29    F  \n",
              "1  2423.11    M  \n",
              "2  3835.69    M  \n",
              "3  1870.29    M  \n",
              "4  3529.80    M  "
            ],
            "text/html": [
              "\n",
              "  <div id=\"df-a8e43a0b-6912-454b-ab11-cb662ad070e3\" class=\"colab-df-container\">\n",
              "    <div>\n",
              "<style scoped>\n",
              "    .dataframe tbody tr th:only-of-type {\n",
              "        vertical-align: middle;\n",
              "    }\n",
              "\n",
              "    .dataframe tbody tr th {\n",
              "        vertical-align: top;\n",
              "    }\n",
              "\n",
              "    .dataframe thead th {\n",
              "        text-align: right;\n",
              "    }\n",
              "</style>\n",
              "<table border=\"1\" class=\"dataframe\">\n",
              "  <thead>\n",
              "    <tr style=\"text-align: right;\">\n",
              "      <th></th>\n",
              "      <th>Unnamed: 0</th>\n",
              "      <th>estado</th>\n",
              "      <th>idade</th>\n",
              "      <th>escolaridade</th>\n",
              "      <th>nível de proficiência em inglês</th>\n",
              "      <th>renda</th>\n",
              "      <th>sexo</th>\n",
              "    </tr>\n",
              "  </thead>\n",
              "  <tbody>\n",
              "    <tr>\n",
              "      <th>0</th>\n",
              "      <td>0</td>\n",
              "      <td>MA</td>\n",
              "      <td>56</td>\n",
              "      <td>Fundamental</td>\n",
              "      <td>Intermediário</td>\n",
              "      <td>4006.29</td>\n",
              "      <td>F</td>\n",
              "    </tr>\n",
              "    <tr>\n",
              "      <th>1</th>\n",
              "      <td>1</td>\n",
              "      <td>BA</td>\n",
              "      <td>46</td>\n",
              "      <td>Superior</td>\n",
              "      <td>Básico</td>\n",
              "      <td>2423.11</td>\n",
              "      <td>M</td>\n",
              "    </tr>\n",
              "    <tr>\n",
              "      <th>2</th>\n",
              "      <td>2</td>\n",
              "      <td>AM</td>\n",
              "      <td>32</td>\n",
              "      <td>Fundamental</td>\n",
              "      <td>Intermediário</td>\n",
              "      <td>3835.69</td>\n",
              "      <td>M</td>\n",
              "    </tr>\n",
              "    <tr>\n",
              "      <th>3</th>\n",
              "      <td>3</td>\n",
              "      <td>CE</td>\n",
              "      <td>60</td>\n",
              "      <td>Superior</td>\n",
              "      <td>Básico</td>\n",
              "      <td>1870.29</td>\n",
              "      <td>M</td>\n",
              "    </tr>\n",
              "    <tr>\n",
              "      <th>4</th>\n",
              "      <td>4</td>\n",
              "      <td>SE</td>\n",
              "      <td>25</td>\n",
              "      <td>Fundamental</td>\n",
              "      <td>Avançado</td>\n",
              "      <td>3529.80</td>\n",
              "      <td>M</td>\n",
              "    </tr>\n",
              "  </tbody>\n",
              "</table>\n",
              "</div>\n",
              "    <div class=\"colab-df-buttons\">\n",
              "\n",
              "  <div class=\"colab-df-container\">\n",
              "    <button class=\"colab-df-convert\" onclick=\"convertToInteractive('df-a8e43a0b-6912-454b-ab11-cb662ad070e3')\"\n",
              "            title=\"Convert this dataframe to an interactive table.\"\n",
              "            style=\"display:none;\">\n",
              "\n",
              "  <svg xmlns=\"http://www.w3.org/2000/svg\" height=\"24px\" viewBox=\"0 -960 960 960\">\n",
              "    <path d=\"M120-120v-720h720v720H120Zm60-500h600v-160H180v160Zm220 220h160v-160H400v160Zm0 220h160v-160H400v160ZM180-400h160v-160H180v160Zm440 0h160v-160H620v160ZM180-180h160v-160H180v160Zm440 0h160v-160H620v160Z\"/>\n",
              "  </svg>\n",
              "    </button>\n",
              "\n",
              "  <style>\n",
              "    .colab-df-container {\n",
              "      display:flex;\n",
              "      gap: 12px;\n",
              "    }\n",
              "\n",
              "    .colab-df-convert {\n",
              "      background-color: #E8F0FE;\n",
              "      border: none;\n",
              "      border-radius: 50%;\n",
              "      cursor: pointer;\n",
              "      display: none;\n",
              "      fill: #1967D2;\n",
              "      height: 32px;\n",
              "      padding: 0 0 0 0;\n",
              "      width: 32px;\n",
              "    }\n",
              "\n",
              "    .colab-df-convert:hover {\n",
              "      background-color: #E2EBFA;\n",
              "      box-shadow: 0px 1px 2px rgba(60, 64, 67, 0.3), 0px 1px 3px 1px rgba(60, 64, 67, 0.15);\n",
              "      fill: #174EA6;\n",
              "    }\n",
              "\n",
              "    .colab-df-buttons div {\n",
              "      margin-bottom: 4px;\n",
              "    }\n",
              "\n",
              "    [theme=dark] .colab-df-convert {\n",
              "      background-color: #3B4455;\n",
              "      fill: #D2E3FC;\n",
              "    }\n",
              "\n",
              "    [theme=dark] .colab-df-convert:hover {\n",
              "      background-color: #434B5C;\n",
              "      box-shadow: 0px 1px 3px 1px rgba(0, 0, 0, 0.15);\n",
              "      filter: drop-shadow(0px 1px 2px rgba(0, 0, 0, 0.3));\n",
              "      fill: #FFFFFF;\n",
              "    }\n",
              "  </style>\n",
              "\n",
              "    <script>\n",
              "      const buttonEl =\n",
              "        document.querySelector('#df-a8e43a0b-6912-454b-ab11-cb662ad070e3 button.colab-df-convert');\n",
              "      buttonEl.style.display =\n",
              "        google.colab.kernel.accessAllowed ? 'block' : 'none';\n",
              "\n",
              "      async function convertToInteractive(key) {\n",
              "        const element = document.querySelector('#df-a8e43a0b-6912-454b-ab11-cb662ad070e3');\n",
              "        const dataTable =\n",
              "          await google.colab.kernel.invokeFunction('convertToInteractive',\n",
              "                                                    [key], {});\n",
              "        if (!dataTable) return;\n",
              "\n",
              "        const docLinkHtml = 'Like what you see? Visit the ' +\n",
              "          '<a target=\"_blank\" href=https://colab.research.google.com/notebooks/data_table.ipynb>data table notebook</a>'\n",
              "          + ' to learn more about interactive tables.';\n",
              "        element.innerHTML = '';\n",
              "        dataTable['output_type'] = 'display_data';\n",
              "        await google.colab.output.renderOutput(dataTable, element);\n",
              "        const docLink = document.createElement('div');\n",
              "        docLink.innerHTML = docLinkHtml;\n",
              "        element.appendChild(docLink);\n",
              "      }\n",
              "    </script>\n",
              "  </div>\n",
              "\n",
              "\n",
              "<div id=\"df-3ca8c230-79cc-4a18-8ff7-c507b3c01726\">\n",
              "  <button class=\"colab-df-quickchart\" onclick=\"quickchart('df-3ca8c230-79cc-4a18-8ff7-c507b3c01726')\"\n",
              "            title=\"Suggest charts\"\n",
              "            style=\"display:none;\">\n",
              "\n",
              "<svg xmlns=\"http://www.w3.org/2000/svg\" height=\"24px\"viewBox=\"0 0 24 24\"\n",
              "     width=\"24px\">\n",
              "    <g>\n",
              "        <path d=\"M19 3H5c-1.1 0-2 .9-2 2v14c0 1.1.9 2 2 2h14c1.1 0 2-.9 2-2V5c0-1.1-.9-2-2-2zM9 17H7v-7h2v7zm4 0h-2V7h2v10zm4 0h-2v-4h2v4z\"/>\n",
              "    </g>\n",
              "</svg>\n",
              "  </button>\n",
              "\n",
              "<style>\n",
              "  .colab-df-quickchart {\n",
              "      --bg-color: #E8F0FE;\n",
              "      --fill-color: #1967D2;\n",
              "      --hover-bg-color: #E2EBFA;\n",
              "      --hover-fill-color: #174EA6;\n",
              "      --disabled-fill-color: #AAA;\n",
              "      --disabled-bg-color: #DDD;\n",
              "  }\n",
              "\n",
              "  [theme=dark] .colab-df-quickchart {\n",
              "      --bg-color: #3B4455;\n",
              "      --fill-color: #D2E3FC;\n",
              "      --hover-bg-color: #434B5C;\n",
              "      --hover-fill-color: #FFFFFF;\n",
              "      --disabled-bg-color: #3B4455;\n",
              "      --disabled-fill-color: #666;\n",
              "  }\n",
              "\n",
              "  .colab-df-quickchart {\n",
              "    background-color: var(--bg-color);\n",
              "    border: none;\n",
              "    border-radius: 50%;\n",
              "    cursor: pointer;\n",
              "    display: none;\n",
              "    fill: var(--fill-color);\n",
              "    height: 32px;\n",
              "    padding: 0;\n",
              "    width: 32px;\n",
              "  }\n",
              "\n",
              "  .colab-df-quickchart:hover {\n",
              "    background-color: var(--hover-bg-color);\n",
              "    box-shadow: 0 1px 2px rgba(60, 64, 67, 0.3), 0 1px 3px 1px rgba(60, 64, 67, 0.15);\n",
              "    fill: var(--button-hover-fill-color);\n",
              "  }\n",
              "\n",
              "  .colab-df-quickchart-complete:disabled,\n",
              "  .colab-df-quickchart-complete:disabled:hover {\n",
              "    background-color: var(--disabled-bg-color);\n",
              "    fill: var(--disabled-fill-color);\n",
              "    box-shadow: none;\n",
              "  }\n",
              "\n",
              "  .colab-df-spinner {\n",
              "    border: 2px solid var(--fill-color);\n",
              "    border-color: transparent;\n",
              "    border-bottom-color: var(--fill-color);\n",
              "    animation:\n",
              "      spin 1s steps(1) infinite;\n",
              "  }\n",
              "\n",
              "  @keyframes spin {\n",
              "    0% {\n",
              "      border-color: transparent;\n",
              "      border-bottom-color: var(--fill-color);\n",
              "      border-left-color: var(--fill-color);\n",
              "    }\n",
              "    20% {\n",
              "      border-color: transparent;\n",
              "      border-left-color: var(--fill-color);\n",
              "      border-top-color: var(--fill-color);\n",
              "    }\n",
              "    30% {\n",
              "      border-color: transparent;\n",
              "      border-left-color: var(--fill-color);\n",
              "      border-top-color: var(--fill-color);\n",
              "      border-right-color: var(--fill-color);\n",
              "    }\n",
              "    40% {\n",
              "      border-color: transparent;\n",
              "      border-right-color: var(--fill-color);\n",
              "      border-top-color: var(--fill-color);\n",
              "    }\n",
              "    60% {\n",
              "      border-color: transparent;\n",
              "      border-right-color: var(--fill-color);\n",
              "    }\n",
              "    80% {\n",
              "      border-color: transparent;\n",
              "      border-right-color: var(--fill-color);\n",
              "      border-bottom-color: var(--fill-color);\n",
              "    }\n",
              "    90% {\n",
              "      border-color: transparent;\n",
              "      border-bottom-color: var(--fill-color);\n",
              "    }\n",
              "  }\n",
              "</style>\n",
              "\n",
              "  <script>\n",
              "    async function quickchart(key) {\n",
              "      const quickchartButtonEl =\n",
              "        document.querySelector('#' + key + ' button');\n",
              "      quickchartButtonEl.disabled = true;  // To prevent multiple clicks.\n",
              "      quickchartButtonEl.classList.add('colab-df-spinner');\n",
              "      try {\n",
              "        const charts = await google.colab.kernel.invokeFunction(\n",
              "            'suggestCharts', [key], {});\n",
              "      } catch (error) {\n",
              "        console.error('Error during call to suggestCharts:', error);\n",
              "      }\n",
              "      quickchartButtonEl.classList.remove('colab-df-spinner');\n",
              "      quickchartButtonEl.classList.add('colab-df-quickchart-complete');\n",
              "    }\n",
              "    (() => {\n",
              "      let quickchartButtonEl =\n",
              "        document.querySelector('#df-3ca8c230-79cc-4a18-8ff7-c507b3c01726 button');\n",
              "      quickchartButtonEl.style.display =\n",
              "        google.colab.kernel.accessAllowed ? 'block' : 'none';\n",
              "    })();\n",
              "  </script>\n",
              "</div>\n",
              "\n",
              "    </div>\n",
              "  </div>\n"
            ],
            "application/vnd.google.colaboratory.intrinsic+json": {
              "type": "dataframe",
              "summary": "{\n  \"name\": \"display(df\",\n  \"rows\": 5,\n  \"fields\": [\n    {\n      \"column\": \"Unnamed: 0\",\n      \"properties\": {\n        \"dtype\": \"number\",\n        \"std\": 1,\n        \"min\": 0,\n        \"max\": 4,\n        \"num_unique_values\": 5,\n        \"samples\": [\n          1,\n          4,\n          2\n        ],\n        \"semantic_type\": \"\",\n        \"description\": \"\"\n      }\n    },\n    {\n      \"column\": \"estado\",\n      \"properties\": {\n        \"dtype\": \"string\",\n        \"num_unique_values\": 5,\n        \"samples\": [\n          \"BA\",\n          \"SE\",\n          \"AM\"\n        ],\n        \"semantic_type\": \"\",\n        \"description\": \"\"\n      }\n    },\n    {\n      \"column\": \"idade\",\n      \"properties\": {\n        \"dtype\": \"number\",\n        \"std\": 15,\n        \"min\": 25,\n        \"max\": 60,\n        \"num_unique_values\": 5,\n        \"samples\": [\n          46,\n          25,\n          32\n        ],\n        \"semantic_type\": \"\",\n        \"description\": \"\"\n      }\n    },\n    {\n      \"column\": \"escolaridade\",\n      \"properties\": {\n        \"dtype\": \"category\",\n        \"num_unique_values\": 2,\n        \"samples\": [\n          \"Superior\",\n          \"Fundamental\"\n        ],\n        \"semantic_type\": \"\",\n        \"description\": \"\"\n      }\n    },\n    {\n      \"column\": \"n\\u00edvel de profici\\u00eancia em ingl\\u00eas\",\n      \"properties\": {\n        \"dtype\": \"string\",\n        \"num_unique_values\": 3,\n        \"samples\": [\n          \"Intermedi\\u00e1rio\",\n          \"B\\u00e1sico\"\n        ],\n        \"semantic_type\": \"\",\n        \"description\": \"\"\n      }\n    },\n    {\n      \"column\": \"renda\",\n      \"properties\": {\n        \"dtype\": \"number\",\n        \"std\": 937.0484579145307,\n        \"min\": 1870.29,\n        \"max\": 4006.29,\n        \"num_unique_values\": 5,\n        \"samples\": [\n          2423.11,\n          3529.8\n        ],\n        \"semantic_type\": \"\",\n        \"description\": \"\"\n      }\n    },\n    {\n      \"column\": \"sexo\",\n      \"properties\": {\n        \"dtype\": \"category\",\n        \"num_unique_values\": 2,\n        \"samples\": [\n          \"M\",\n          \"F\"\n        ],\n        \"semantic_type\": \"\",\n        \"description\": \"\"\n      }\n    }\n  ]\n}"
            }
          },
          "metadata": {}
        }
      ]
    },
    {
      "cell_type": "code",
      "source": [
        "print(df.columns)\n",
        "print(df.dtypes)\n",
        "print(df.shape)\n",
        "print(df.isnull().sum())\n",
        "prificiencia_ingles = 'nível de proficiência em inglês'\n",
        "print(df[prificiencia_ingles].value_counts(dropna=False))"
      ],
      "metadata": {
        "colab": {
          "base_uri": "https://localhost:8080/"
        },
        "id": "Fejm7Z1FFN2e",
        "outputId": "63f50f98-3e08-47f1-f94f-c6289f7d22d8"
      },
      "execution_count": 25,
      "outputs": [
        {
          "output_type": "stream",
          "name": "stdout",
          "text": [
            "Index(['Unnamed: 0', 'estado', 'idade', 'escolaridade',\n",
            "       'nível de proficiência em inglês', 'renda', 'sexo'],\n",
            "      dtype='object')\n",
            "Unnamed: 0                           int64\n",
            "estado                              object\n",
            "idade                                int64\n",
            "escolaridade                        object\n",
            "nível de proficiência em inglês     object\n",
            "renda                              float64\n",
            "sexo                                object\n",
            "dtype: object\n",
            "(1000, 7)\n",
            "Unnamed: 0                         0\n",
            "estado                             0\n",
            "idade                              0\n",
            "escolaridade                       0\n",
            "nível de proficiência em inglês    0\n",
            "renda                              0\n",
            "sexo                               0\n",
            "dtype: int64\n",
            "nível de proficiência em inglês\n",
            "Avançado         344\n",
            "Intermediário    329\n",
            "Básico           327\n",
            "Name: count, dtype: int64\n"
          ]
        }
      ]
    },
    {
      "cell_type": "code",
      "source": [
        "df_ingles_avancado = df[df['nível de proficiência em inglês'] == 'Avançado']\n",
        "contagem_ingles_avancado = len(df_ingles_avancado)\n",
        "print(f\"Individuos com inglês avançado: {contagem_ingles_avancado}\")"
      ],
      "metadata": {
        "colab": {
          "base_uri": "https://localhost:8080/"
        },
        "id": "1D8Ml8phFZkt",
        "outputId": "5c37c3aa-4bc2-4568-dd62-f09e77f6bdea"
      },
      "execution_count": 26,
      "outputs": [
        {
          "output_type": "stream",
          "name": "stdout",
          "text": [
            "Individuos com inglês avançado: 344\n"
          ]
        }
      ]
    },
    {
      "cell_type": "code",
      "source": [
        "total_individuos = len(df)\n",
        "probabilidade_fluente = contagem_ingles_avancado / total_individuos\n",
        "probabilidade_nao_fluente = 1 - probabilidade_fluente\n",
        "\n",
        "print(f\"Probabilidade de ser fluente em Inglês: {probabilidade_fluente}\")\n",
        "print(f\"Probabilidade de não ser fluente em Inglês: {probabilidade_nao_fluente}\")"
      ],
      "metadata": {
        "colab": {
          "base_uri": "https://localhost:8080/"
        },
        "id": "r_fZeW41Fnuo",
        "outputId": "fcf8ea2d-46ce-48a2-881c-2a1f17f84cca"
      },
      "execution_count": 27,
      "outputs": [
        {
          "output_type": "stream",
          "name": "stdout",
          "text": [
            "Probabilidade de ser fluente em Inglês: 0.344\n",
            "Probabilidade de não ser fluente em Inglês: 0.656\n"
          ]
        }
      ]
    },
    {
      "cell_type": "markdown",
      "source": [
        "2. Se uma pessoa escolhida aleatoriamente for de Alagoas ou do Pará, qual\n",
        "é a probabilidade de ela ter uma renda superior a 5 mil reais?"
      ],
      "metadata": {
        "id": "6d_Dr4mAFuQ3"
      }
    },
    {
      "cell_type": "code",
      "source": [
        "alagoas_para = df[(df['estado'] == 'AL') | (df['estado'] == 'PA')]\n",
        "\n",
        "renda_acima_5k = alagoas_para[alagoas_para['renda'] > 5000]\n",
        "\n",
        "probabilidade = len(renda_acima_5k) / len(alagoas_para)\n",
        "\n",
        "print(f\"Probabilidade de renda superior a 5 mil reais em Alagoas ou Pará: {probabilidade}\")\n"
      ],
      "metadata": {
        "colab": {
          "base_uri": "https://localhost:8080/"
        },
        "id": "bp0XM719HBtN",
        "outputId": "06cc7969-a429-45fd-b4c8-93d56c393bd5"
      },
      "execution_count": 28,
      "outputs": [
        {
          "output_type": "stream",
          "name": "stdout",
          "text": [
            "Probabilidade de renda superior a 5 mil reais em Alagoas ou Pará: 0.05063291139240506\n"
          ]
        }
      ]
    },
    {
      "cell_type": "markdown",
      "source": [
        "3. Descubra a probabilidade de uma pessoa, residente no estado do\n",
        "Amazonas, ter ensino superior completo (considerando apenas a\n",
        "escolaridade classificada como 'Superior'). Qual a probabilidade da quinta\n",
        "pessoa amazonense que você conversar ter ensino superior completo?"
      ],
      "metadata": {
        "id": "YTW6PL0UGDLu"
      }
    },
    {
      "cell_type": "code",
      "source": [
        "amazonas = df[df['estado'] == 'AM']\n",
        "superior_completo = amazonas[amazonas['escolaridade'] == 'Superior']\n",
        "probabilidade_superior = len(superior_completo) / len(amazonas)\n",
        "\n",
        "print(f\"Probabilidade de um amazonense ter ensino superior completo: {probabilidade_superior}\")\n",
        "print(f\"A probabilidade da quinta pessoa amazonense ter ensino superior completo é: {probabilidade_superior}\")\n"
      ],
      "metadata": {
        "colab": {
          "base_uri": "https://localhost:8080/"
        },
        "id": "czVf2MDxHNjF",
        "outputId": "0292281c-564a-465e-fb4b-b00ca4e4d89d"
      },
      "execution_count": 29,
      "outputs": [
        {
          "output_type": "stream",
          "name": "stdout",
          "text": [
            "Probabilidade de um amazonense ter ensino superior completo: 0.23684210526315788\n",
            "A probabilidade da quinta pessoa amazonense ter ensino superior completo é: 0.23684210526315788\n"
          ]
        }
      ]
    },
    {
      "cell_type": "markdown",
      "source": [
        "4. Considerando a renda das pessoas do nosso conjunto, podemos dizer\n",
        "que a renda de uma pessoa brasileira está na sua maioria em que faixa\n",
        "(faça faixa de 1.500 reais)? Qual é a sua função densidade de probabilidade?"
      ],
      "metadata": {
        "id": "DXxOXrTIHRTp"
      }
    },
    {
      "cell_type": "code",
      "source": [
        "faixas_renda = []\n",
        "limite_inferior = 0\n",
        "while limite_inferior < df['renda'].max():\n",
        "    limite_superior = limite_inferior + 1500\n",
        "    faixas_renda.append((limite_inferior, limite_superior))\n",
        "    limite_inferior = limite_superior\n",
        "\n",
        "contagens_faixas = []\n",
        "for faixa in faixas_renda:\n",
        "    contagem = len(df[(df['renda'] >= faixa[0]) & (df['renda'] < faixa[1])])\n",
        "    contagens_faixas.append(contagem)\n",
        "\n",
        "# Encontrar a faixa com maior número de pessoas\n",
        "indice_faixa_maior = np.argmax(contagens_faixas)\n",
        "faixa_maior = faixas_renda[indice_faixa_maior]\n",
        "\n",
        "print(f\"A maioria das rendas se encontra na faixa de R${faixa_maior[0]} a R${faixa_maior[1]}\")\n",
        "\n",
        "# Função Densidade de Probabilidade (FDP)\n",
        "plt.figure(figsize=(10, 6))\n",
        "plt.hist(df['renda'], bins=range(0, int(df['renda'].max()) + 1500, 1500), density=True, alpha=0.7, color='skyblue', edgecolor='black')\n",
        "plt.xlabel(\"Renda (R$)\")\n",
        "plt.ylabel(\"Densidade de Probabilidade\")\n",
        "plt.title(\"Função Densidade de Probabilidade da Renda\")\n",
        "plt.xticks(range(0, int(df['renda'].max()) + 1500, 1500), rotation=45)\n",
        "plt.grid(axis='y', alpha=0.75)\n",
        "plt.show()\n",
        "\n"
      ],
      "metadata": {
        "colab": {
          "base_uri": "https://localhost:8080/",
          "height": 603
        },
        "id": "1NbkZEJ2HTgR",
        "outputId": "8fb791bd-8f65-4dbe-eb9d-7f40ec1d9e60"
      },
      "execution_count": 31,
      "outputs": [
        {
          "output_type": "stream",
          "name": "stdout",
          "text": [
            "A maioria das rendas se encontra na faixa de R$3000 a R$4500\n"
          ]
        },
        {
          "output_type": "display_data",
          "data": {
            "text/plain": [
              "<Figure size 1000x600 with 1 Axes>"
            ],
            "image/png": "[encoded data removed]"
          },
          "metadata": {}
        }
      ]
    },
    {
      "cell_type": "markdown",
      "source": [
        "5. Calcule a média e a variância da renda da amostra. Depois faça a\n",
        "distribuição normal, inclua o gráfico."
      ],
      "metadata": {
        "id": "u1Fw-dz2Hk-U"
      }
    },
    {
      "cell_type": "code",
      "source": [
        "media_renda = df['renda'].mean()\n",
        "variancia_renda = df['renda'].var()\n",
        "\n",
        "print(f\"Média da renda: {media_renda}\")\n",
        "print(f\"Variância da renda: {variancia_renda}\")\n",
        "\n",
        "# Gera a distribuição normal\n",
        "from scipy.stats import norm\n",
        "\n",
        "# Define o intervalo para o gráfico\n",
        "x_min = df['renda'].min()\n",
        "x_max = df['renda'].max()\n",
        "x = np.linspace(x_min, x_max, 1000)\n",
        "\n",
        "# Plota a distribuição normal\n",
        "plt.figure(figsize=(10, 6))\n",
        "plt.plot(x, norm.pdf(x, loc=media_renda, scale=np.sqrt(variancia_renda)))\n",
        "plt.xlabel(\"Renda\")\n",
        "plt.ylabel(\"Densidade de Probabilidade\")\n",
        "plt.title(\"Distribuição Normal da Renda\")\n",
        "plt.grid(True)\n",
        "plt.show()\n"
      ],
      "metadata": {
        "colab": {
          "base_uri": "https://localhost:8080/",
          "height": 600
        },
        "id": "re5ddHd0HneI",
        "outputId": "2b27d9fa-d29e-4345-fee7-8144095c8706"
      },
      "execution_count": 33,
      "outputs": [
        {
          "output_type": "stream",
          "name": "stdout",
          "text": [
            "Média da renda: 3082.5371800000003\n",
            "Variância da renda: 993156.228167617\n"
          ]
        },
        {
          "output_type": "display_data",
          "data": {
            "text/plain": [
              "<Figure size 1000x600 with 1 Axes>"
            ],
            "image/png": "[encoded data removed]"
          },
          "metadata": {}
        }
      ]
    },
    {
      "cell_type": "markdown",
      "source": [
        "6. Primeiro considere a probabilidade encontrada no nosso conjunto de\n",
        "pessoas com escolaridade de pós-graduação. Considerando a amostra de\n",
        "população brasileira com 1 milhão de habitantes, qual a probabilidade de\n",
        "encontrarmos 243 mil pessoas com pós-graduação?"
      ],
      "metadata": {
        "id": "UoFkAafFHt0N"
      }
    },
    {
      "cell_type": "code",
      "source": [
        "pos_graduacao = df[df['escolaridade'] == 'Pós-graduação']\n",
        "probabilidade_pos = len(pos_graduacao) / len(df)\n",
        "\n",
        "populacao_total = 1000000\n",
        "pessoas_pos_esperadas = populacao_total * probabilidade_pos\n",
        "\n",
        "probabilidade_243k = 243000 / populacao_total\n",
        "\n",
        "print(f\"Probabilidade de uma pessoa ter pós-graduação na amostra: {probabilidade_pos}\")\n",
        "print(f\"Número esperado de pessoas com pós-graduação em uma população de 1 milhão: {pessoas_pos_esperadas}\")\n",
        "print(f\"Probabilidade de encontrar 243 mil pessoas com pós-graduação em uma população de 1 milhão: {probabilidade_243k}\")\n"
      ],
      "metadata": {
        "colab": {
          "base_uri": "https://localhost:8080/"
        },
        "id": "ZhkC3_RRHvzN",
        "outputId": "2d51cd6b-e093-4e4b-81ca-840b93db6d5e"
      },
      "execution_count": 34,
      "outputs": [
        {
          "output_type": "stream",
          "name": "stdout",
          "text": [
            "Probabilidade de uma pessoa ter pós-graduação na amostra: 0.253\n",
            "Número esperado de pessoas com pós-graduação em uma população de 1 milhão: 253000.0\n",
            "Probabilidade de encontrar 243 mil pessoas com pós-graduação em uma população de 1 milhão: 0.243\n"
          ]
        }
      ]
    },
    {
      "cell_type": "markdown",
      "source": [
        "7. Somando as densidades nós temos a função de densidade acumulada.\n",
        "Considerando a coluna ‘Escolaridade’ faça a função de densidade\n",
        "acumulada discreta para cada nível de escolaridade."
      ],
      "metadata": {
        "id": "LDr47O7CHzZm"
      }
    },
    {
      "cell_type": "code",
      "source": [
        "escolaridade_counts = df['escolaridade'].value_counts(normalize=True).sort_index()\n",
        "densidade_acumulada = escolaridade_counts.cumsum()\n",
        "densidade_acumulada\n"
      ],
      "metadata": {
        "colab": {
          "base_uri": "https://localhost:8080/",
          "height": 241
        },
        "id": "WuBPxVVbH1-g",
        "outputId": "52445e7e-c87f-4e33-9077-d25caf385240"
      },
      "execution_count": 35,
      "outputs": [
        {
          "output_type": "execute_result",
          "data": {
            "text/plain": [
              "escolaridade\n",
              "Fundamental      0.266\n",
              "Médio            0.504\n",
              "Pós-graduação    0.757\n",
              "Superior         1.000\n",
              "Name: proportion, dtype: float64"
            ],
            "text/html": [
              "<div>\n",
              "<style scoped>\n",
              "    .dataframe tbody tr th:only-of-type {\n",
              "        vertical-align: middle;\n",
              "    }\n",
              "\n",
              "    .dataframe tbody tr th {\n",
              "        vertical-align: top;\n",
              "    }\n",
              "\n",
              "    .dataframe thead th {\n",
              "        text-align: right;\n",
              "    }\n",
              "</style>\n",
              "<table border=\"1\" class=\"dataframe\">\n",
              "  <thead>\n",
              "    <tr style=\"text-align: right;\">\n",
              "      <th></th>\n",
              "      <th>proportion</th>\n",
              "    </tr>\n",
              "    <tr>\n",
              "      <th>escolaridade</th>\n",
              "      <th></th>\n",
              "    </tr>\n",
              "  </thead>\n",
              "  <tbody>\n",
              "    <tr>\n",
              "      <th>Fundamental</th>\n",
              "      <td>0.266</td>\n",
              "    </tr>\n",
              "    <tr>\n",
              "      <th>Médio</th>\n",
              "      <td>0.504</td>\n",
              "    </tr>\n",
              "    <tr>\n",
              "      <th>Pós-graduação</th>\n",
              "      <td>0.757</td>\n",
              "    </tr>\n",
              "    <tr>\n",
              "      <th>Superior</th>\n",
              "      <td>1.000</td>\n",
              "    </tr>\n",
              "  </tbody>\n",
              "</table>\n",
              "</div><br><label><b>dtype:</b> float64</label>"
            ]
          },
          "metadata": {},
          "execution_count": 35
        }
      ]
    },
    {
      "cell_type": "markdown",
      "source": [
        "8. Qual a margem de erro amostral da proporção populacional\n",
        "considerando a proporção de pessoas com nível de inglês intermediário?"
      ],
      "metadata": {
        "id": "p9YtjXL9H8ud"
      }
    },
    {
      "cell_type": "code",
      "source": [
        "n_intermediario = len(df[df[prificiencia_ingles] == 'Intermediário'])\n",
        "proporcao_intermediario = n_intermediario / len(df)\n",
        "\n",
        "# Define o nível de confiança (95%)\n",
        "nivel_confianca = 0.95\n",
        "\n",
        "# Calcula o valor crítico Z para o nível de confiança\n",
        "z_critico = norm.ppf((1 + nivel_confianca) / 2)\n",
        "\n",
        "# Define o tamanho da amostra\n",
        "n = len(df)\n",
        "\n",
        "# Calcula a margem de erro\n",
        "margem_erro = z_critico * np.sqrt((proporcao_intermediario * (1 - proporcao_intermediario)) / n)\n",
        "\n",
        "print(f\"A margem de erro amostral para a proporção de pessoas com nível de inglês intermediário é: {margem_erro}\")\n"
      ],
      "metadata": {
        "colab": {
          "base_uri": "https://localhost:8080/"
        },
        "id": "wpEs58_hIHON",
        "outputId": "f55f2086-96af-410c-c380-0b7846ce366f"
      },
      "execution_count": 37,
      "outputs": [
        {
          "output_type": "stream",
          "name": "stdout",
          "text": [
            "A margem de erro amostral para a proporção de pessoas com nível de inglês intermediário é: 0.029121068108804226\n"
          ]
        }
      ]
    },
    {
      "cell_type": "markdown",
      "source": [
        "9. Calcula a renda da população. Qual a probabilidade de encontrar 60\n",
        "pessoas com uma renda mil reais superior à média?"
      ],
      "metadata": {
        "id": "j5fkoMxrIQIk"
      }
    },
    {
      "cell_type": "code",
      "source": [
        "\n",
        "media_renda = df['renda'].mean()\n",
        "# print(media_renda)\n",
        "pessoas_acima_media = df[df['renda'] > media_renda + 1000]\n",
        "# print(len(pessoas_acima_media))\n",
        "n_pessoas_acima_media = len(pessoas_acima_media)\n",
        "n_total = len(df)\n",
        "\n",
        "probabilidade_pessoa_acima_media = n_pessoas_acima_media / n_total\n",
        "\n",
        "# Probabilidade de encontrar exatamente 60 pessoas com renda 1000 acima da média em uma amostra de tamanho n\n",
        "from scipy.stats import binom\n",
        "n = 60 # tamanho da amostra\n",
        "p = probabilidade_pessoa_acima_media\n",
        "k = 60 # número de sucessos (pessoas com renda acima da média)\n",
        "\n",
        "probabilidade_60_pessoas = binom.pmf(k, n, p)\n",
        "\n",
        "print(f\"A probabilidade de encontrar 60 pessoas com renda mil reais superior à média é: {probabilidade_60_pessoas}\")\n"
      ],
      "metadata": {
        "colab": {
          "base_uri": "https://localhost:8080/"
        },
        "id": "gMYQtSmzIRbt",
        "outputId": "96f880d3-ce82-4004-c09d-3c25bca2e6f9"
      },
      "execution_count": 39,
      "outputs": [
        {
          "output_type": "stream",
          "name": "stdout",
          "text": [
            "A probabilidade de encontrar 60 pessoas com renda mil reais superior à média é: 2.5677489595221674e-48\n"
          ]
        }
      ]
    },
    {
      "cell_type": "markdown",
      "source": [
        "10. Qual é a probabilidade de escolhermos uma pessoa residente na região\n",
        "Sudeste que seja homem, tenha apenas ensino fundamental completo e\n",
        "possua renda mensal superior a 2 mil reais?"
      ],
      "metadata": {
        "id": "6aj3UDpqIYvF"
      }
    },
    {
      "cell_type": "code",
      "source": [
        "sudeste_homens = df[(df['estado'].isin(['SP', 'RJ', 'MG', 'ES'])) & (df['sexo'] == 'Masculino') & (df['escolaridade'] == 'Fundamental') & (df['renda'] > 2000)]\n",
        "probabilidade_sudeste = len(sudeste_homens) / len(df)\n",
        "print(f\"A probabilidade de escolhermos uma pessoa residente na região Sudeste que seja homem, tenha apenas ensino fundamental completo e possua renda mensal superior a 2 mil reais é: {probabilidade_sudeste}\")\n"
      ],
      "metadata": {
        "colab": {
          "base_uri": "https://localhost:8080/"
        },
        "id": "CH0QYBL9Iacs",
        "outputId": "5deafa17-2b8b-42cb-c1d0-cb88a84c62bd"
      },
      "execution_count": 41,
      "outputs": [
        {
          "output_type": "stream",
          "name": "stdout",
          "text": [
            "A probabilidade de escolhermos uma pessoa residente na região Sudeste que seja homem, tenha apenas ensino fundamental completo e possua renda mensal superior a 2 mil reais é: 0.0\n"
          ]
        }
      ]
    }
  ]
}