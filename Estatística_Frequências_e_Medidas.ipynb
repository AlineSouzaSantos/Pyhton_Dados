{
  "nbformat": 4,
  "nbformat_minor": 0,
  "metadata": {
    "colab": {
      "provenance": [],
      "toc_visible": true,
      "authorship_tag": "ABX9TyOpQcZbPxoGnmko5xFoFpvT",
      "include_colab_link": true
    },
    "kernelspec": {
      "name": "python3",
      "display_name": "Python 3"
    },
    "language_info": {
      "name": "python"
    }
  },
  "cells": [
    {
      "cell_type": "markdown",
      "metadata": {
        "id": "view-in-github",
        "colab_type": "text"
      },
      "source": [
        "<a href=\"https://colab.research.google.com/github/AlineSouzaSantos/Pyhton_Dados/blob/master/Estat%C3%ADstica_Frequ%C3%AAncias_e_Medidas.ipynb\" target=\"_parent\"><img src=\"https://colab.research.google.com/assets/colab-badge.svg\" alt=\"Open In Colab\"/></a>"
      ]
    },
    {
      "source": [
        "# Frequencias e medidas\n",
        "\n",
        "Você é uma pesquisadora de um cursinho para estudantes que querem ingressar na universidade em 2025. Seu objetivo é retirar informações da base de dados do enem do ano anterior para alinhar melhor as estratégias do cursinho para cada estudante. O dado possui 6 colunas, 5 delas representam as disciplinas do ENEM e uma o gênero das pessoas que fizeram a prova. No dado existe a representação de 1000 pessoas, sendo cada uma delas uma linha.\n",
        "\n",
        "1. Qual das disciplinas tem a maior amplitude de nota?\n",
        "2. Qual é a média e a mediana para cada uma das disciplinas? (Lembre-se de remover todos os valores nulos quando considerar a mediana)\n"
      ],
      "cell_type": "markdown",
      "metadata": {
        "id": "c0nbUOH9yPFU"
      }
    },
    {
      "cell_type": "markdown",
      "source": [
        "# Questão 1\n",
        "\n",
        "#####Qual das disciplinas tem a maior amplitude de nota?"
      ],
      "metadata": {
        "id": "PucJy7071T5R"
      }
    },
    {
      "cell_type": "code",
      "source": [
        "import pandas as pd\n",
        "import json\n",
        "import numpy as np\n",
        "\n",
        "df = pd.read_json('enem_2023.json')\n",
        "df.head()"
      ],
      "metadata": {
        "colab": {
          "base_uri": "https://localhost:8080/",
          "height": 206
        },
        "id": "e1iZ-KYt29jZ",
        "outputId": "fb7f7df1-e8e2-40a6-c130-2aec21f2f3f1"
      },
      "execution_count": 59,
      "outputs": [
        {
          "output_type": "execute_result",
          "data": {
            "text/plain": [
              "   Linguagens  Ciências humanas  Ciências da natureza  Matemática     Redação  \\\n",
              "0  585.669300        686.512178            390.482473  452.281333  546.371706   \n",
              "1  359.384608        642.084134                   NaN  412.205207  741.825256   \n",
              "2  622.732384        495.510719            443.183580  669.683401  684.515750   \n",
              "3  350.164605        602.041588            413.979810  676.608952  671.237114   \n",
              "4  384.093657        489.249140            609.758123  520.426698  744.375048   \n",
              "\n",
              "     Sexo  \n",
              "0   Homem  \n",
              "1  Mulher  \n",
              "2   Homem  \n",
              "3   Homem  \n",
              "4   Homem  "
            ],
            "text/html": [
              "\n",
              "  <div id=\"df-a9a4f517-d257-45ff-a0ee-8a6f9a1e77d5\" class=\"colab-df-container\">\n",
              "    <div>\n",
              "<style scoped>\n",
              "    .dataframe tbody tr th:only-of-type {\n",
              "        vertical-align: middle;\n",
              "    }\n",
              "\n",
              "    .dataframe tbody tr th {\n",
              "        vertical-align: top;\n",
              "    }\n",
              "\n",
              "    .dataframe thead th {\n",
              "        text-align: right;\n",
              "    }\n",
              "</style>\n",
              "<table border=\"1\" class=\"dataframe\">\n",
              "  <thead>\n",
              "    <tr style=\"text-align: right;\">\n",
              "      <th></th>\n",
              "      <th>Linguagens</th>\n",
              "      <th>Ciências humanas</th>\n",
              "      <th>Ciências da natureza</th>\n",
              "      <th>Matemática</th>\n",
              "      <th>Redação</th>\n",
              "      <th>Sexo</th>\n",
              "    </tr>\n",
              "  </thead>\n",
              "  <tbody>\n",
              "    <tr>\n",
              "      <th>0</th>\n",
              "      <td>585.669300</td>\n",
              "      <td>686.512178</td>\n",
              "      <td>390.482473</td>\n",
              "      <td>452.281333</td>\n",
              "      <td>546.371706</td>\n",
              "      <td>Homem</td>\n",
              "    </tr>\n",
              "    <tr>\n",
              "      <th>1</th>\n",
              "      <td>359.384608</td>\n",
              "      <td>642.084134</td>\n",
              "      <td>NaN</td>\n",
              "      <td>412.205207</td>\n",
              "      <td>741.825256</td>\n",
              "      <td>Mulher</td>\n",
              "    </tr>\n",
              "    <tr>\n",
              "      <th>2</th>\n",
              "      <td>622.732384</td>\n",
              "      <td>495.510719</td>\n",
              "      <td>443.183580</td>\n",
              "      <td>669.683401</td>\n",
              "      <td>684.515750</td>\n",
              "      <td>Homem</td>\n",
              "    </tr>\n",
              "    <tr>\n",
              "      <th>3</th>\n",
              "      <td>350.164605</td>\n",
              "      <td>602.041588</td>\n",
              "      <td>413.979810</td>\n",
              "      <td>676.608952</td>\n",
              "      <td>671.237114</td>\n",
              "      <td>Homem</td>\n",
              "    </tr>\n",
              "    <tr>\n",
              "      <th>4</th>\n",
              "      <td>384.093657</td>\n",
              "      <td>489.249140</td>\n",
              "      <td>609.758123</td>\n",
              "      <td>520.426698</td>\n",
              "      <td>744.375048</td>\n",
              "      <td>Homem</td>\n",
              "    </tr>\n",
              "  </tbody>\n",
              "</table>\n",
              "</div>\n",
              "    <div class=\"colab-df-buttons\">\n",
              "\n",
              "  <div class=\"colab-df-container\">\n",
              "    <button class=\"colab-df-convert\" onclick=\"convertToInteractive('df-a9a4f517-d257-45ff-a0ee-8a6f9a1e77d5')\"\n",
              "            title=\"Convert this dataframe to an interactive table.\"\n",
              "            style=\"display:none;\">\n",
              "\n",
              "  <svg xmlns=\"http://www.w3.org/2000/svg\" height=\"24px\" viewBox=\"0 -960 960 960\">\n",
              "    <path d=\"M120-120v-720h720v720H120Zm60-500h600v-160H180v160Zm220 220h160v-160H400v160Zm0 220h160v-160H400v160ZM180-400h160v-160H180v160Zm440 0h160v-160H620v160ZM180-180h160v-160H180v160Zm440 0h160v-160H620v160Z\"/>\n",
              "  </svg>\n",
              "    </button>\n",
              "\n",
              "  <style>\n",
              "    .colab-df-container {\n",
              "      display:flex;\n",
              "      gap: 12px;\n",
              "    }\n",
              "\n",
              "    .colab-df-convert {\n",
              "      background-color: #E8F0FE;\n",
              "      border: none;\n",
              "      border-radius: 50%;\n",
              "      cursor: pointer;\n",
              "      display: none;\n",
              "      fill: #1967D2;\n",
              "      height: 32px;\n",
              "      padding: 0 0 0 0;\n",
              "      width: 32px;\n",
              "    }\n",
              "\n",
              "    .colab-df-convert:hover {\n",
              "      background-color: #E2EBFA;\n",
              "      box-shadow: 0px 1px 2px rgba(60, 64, 67, 0.3), 0px 1px 3px 1px rgba(60, 64, 67, 0.15);\n",
              "      fill: #174EA6;\n",
              "    }\n",
              "\n",
              "    .colab-df-buttons div {\n",
              "      margin-bottom: 4px;\n",
              "    }\n",
              "\n",
              "    [theme=dark] .colab-df-convert {\n",
              "      background-color: #3B4455;\n",
              "      fill: #D2E3FC;\n",
              "    }\n",
              "\n",
              "    [theme=dark] .colab-df-convert:hover {\n",
              "      background-color: #434B5C;\n",
              "      box-shadow: 0px 1px 3px 1px rgba(0, 0, 0, 0.15);\n",
              "      filter: drop-shadow(0px 1px 2px rgba(0, 0, 0, 0.3));\n",
              "      fill: #FFFFFF;\n",
              "    }\n",
              "  </style>\n",
              "\n",
              "    <script>\n",
              "      const buttonEl =\n",
              "        document.querySelector('#df-a9a4f517-d257-45ff-a0ee-8a6f9a1e77d5 button.colab-df-convert');\n",
              "      buttonEl.style.display =\n",
              "        google.colab.kernel.accessAllowed ? 'block' : 'none';\n",
              "\n",
              "      async function convertToInteractive(key) {\n",
              "        const element = document.querySelector('#df-a9a4f517-d257-45ff-a0ee-8a6f9a1e77d5');\n",
              "        const dataTable =\n",
              "          await google.colab.kernel.invokeFunction('convertToInteractive',\n",
              "                                                    [key], {});\n",
              "        if (!dataTable) return;\n",
              "\n",
              "        const docLinkHtml = 'Like what you see? Visit the ' +\n",
              "          '<a target=\"_blank\" href=https://colab.research.google.com/notebooks/data_table.ipynb>data table notebook</a>'\n",
              "          + ' to learn more about interactive tables.';\n",
              "        element.innerHTML = '';\n",
              "        dataTable['output_type'] = 'display_data';\n",
              "        await google.colab.output.renderOutput(dataTable, element);\n",
              "        const docLink = document.createElement('div');\n",
              "        docLink.innerHTML = docLinkHtml;\n",
              "        element.appendChild(docLink);\n",
              "      }\n",
              "    </script>\n",
              "  </div>\n",
              "\n",
              "\n",
              "<div id=\"df-3511d55e-0270-46c8-9c6d-9218365413f8\">\n",
              "  <button class=\"colab-df-quickchart\" onclick=\"quickchart('df-3511d55e-0270-46c8-9c6d-9218365413f8')\"\n",
              "            title=\"Suggest charts\"\n",
              "            style=\"display:none;\">\n",
              "\n",
              "<svg xmlns=\"http://www.w3.org/2000/svg\" height=\"24px\"viewBox=\"0 0 24 24\"\n",
              "     width=\"24px\">\n",
              "    <g>\n",
              "        <path d=\"M19 3H5c-1.1 0-2 .9-2 2v14c0 1.1.9 2 2 2h14c1.1 0 2-.9 2-2V5c0-1.1-.9-2-2-2zM9 17H7v-7h2v7zm4 0h-2V7h2v10zm4 0h-2v-4h2v4z\"/>\n",
              "    </g>\n",
              "</svg>\n",
              "  </button>\n",
              "\n",
              "<style>\n",
              "  .colab-df-quickchart {\n",
              "      --bg-color: #E8F0FE;\n",
              "      --fill-color: #1967D2;\n",
              "      --hover-bg-color: #E2EBFA;\n",
              "      --hover-fill-color: #174EA6;\n",
              "      --disabled-fill-color: #AAA;\n",
              "      --disabled-bg-color: #DDD;\n",
              "  }\n",
              "\n",
              "  [theme=dark] .colab-df-quickchart {\n",
              "      --bg-color: #3B4455;\n",
              "      --fill-color: #D2E3FC;\n",
              "      --hover-bg-color: #434B5C;\n",
              "      --hover-fill-color: #FFFFFF;\n",
              "      --disabled-bg-color: #3B4455;\n",
              "      --disabled-fill-color: #666;\n",
              "  }\n",
              "\n",
              "  .colab-df-quickchart {\n",
              "    background-color: var(--bg-color);\n",
              "    border: none;\n",
              "    border-radius: 50%;\n",
              "    cursor: pointer;\n",
              "    display: none;\n",
              "    fill: var(--fill-color);\n",
              "    height: 32px;\n",
              "    padding: 0;\n",
              "    width: 32px;\n",
              "  }\n",
              "\n",
              "  .colab-df-quickchart:hover {\n",
              "    background-color: var(--hover-bg-color);\n",
              "    box-shadow: 0 1px 2px rgba(60, 64, 67, 0.3), 0 1px 3px 1px rgba(60, 64, 67, 0.15);\n",
              "    fill: var(--button-hover-fill-color);\n",
              "  }\n",
              "\n",
              "  .colab-df-quickchart-complete:disabled,\n",
              "  .colab-df-quickchart-complete:disabled:hover {\n",
              "    background-color: var(--disabled-bg-color);\n",
              "    fill: var(--disabled-fill-color);\n",
              "    box-shadow: none;\n",
              "  }\n",
              "\n",
              "  .colab-df-spinner {\n",
              "    border: 2px solid var(--fill-color);\n",
              "    border-color: transparent;\n",
              "    border-bottom-color: var(--fill-color);\n",
              "    animation:\n",
              "      spin 1s steps(1) infinite;\n",
              "  }\n",
              "\n",
              "  @keyframes spin {\n",
              "    0% {\n",
              "      border-color: transparent;\n",
              "      border-bottom-color: var(--fill-color);\n",
              "      border-left-color: var(--fill-color);\n",
              "    }\n",
              "    20% {\n",
              "      border-color: transparent;\n",
              "      border-left-color: var(--fill-color);\n",
              "      border-top-color: var(--fill-color);\n",
              "    }\n",
              "    30% {\n",
              "      border-color: transparent;\n",
              "      border-left-color: var(--fill-color);\n",
              "      border-top-color: var(--fill-color);\n",
              "      border-right-color: var(--fill-color);\n",
              "    }\n",
              "    40% {\n",
              "      border-color: transparent;\n",
              "      border-right-color: var(--fill-color);\n",
              "      border-top-color: var(--fill-color);\n",
              "    }\n",
              "    60% {\n",
              "      border-color: transparent;\n",
              "      border-right-color: var(--fill-color);\n",
              "    }\n",
              "    80% {\n",
              "      border-color: transparent;\n",
              "      border-right-color: var(--fill-color);\n",
              "      border-bottom-color: var(--fill-color);\n",
              "    }\n",
              "    90% {\n",
              "      border-color: transparent;\n",
              "      border-bottom-color: var(--fill-color);\n",
              "    }\n",
              "  }\n",
              "</style>\n",
              "\n",
              "  <script>\n",
              "    async function quickchart(key) {\n",
              "      const quickchartButtonEl =\n",
              "        document.querySelector('#' + key + ' button');\n",
              "      quickchartButtonEl.disabled = true;  // To prevent multiple clicks.\n",
              "      quickchartButtonEl.classList.add('colab-df-spinner');\n",
              "      try {\n",
              "        const charts = await google.colab.kernel.invokeFunction(\n",
              "            'suggestCharts', [key], {});\n",
              "      } catch (error) {\n",
              "        console.error('Error during call to suggestCharts:', error);\n",
              "      }\n",
              "      quickchartButtonEl.classList.remove('colab-df-spinner');\n",
              "      quickchartButtonEl.classList.add('colab-df-quickchart-complete');\n",
              "    }\n",
              "    (() => {\n",
              "      let quickchartButtonEl =\n",
              "        document.querySelector('#df-3511d55e-0270-46c8-9c6d-9218365413f8 button');\n",
              "      quickchartButtonEl.style.display =\n",
              "        google.colab.kernel.accessAllowed ? 'block' : 'none';\n",
              "    })();\n",
              "  </script>\n",
              "</div>\n",
              "\n",
              "    </div>\n",
              "  </div>\n"
            ],
            "application/vnd.google.colaboratory.intrinsic+json": {
              "type": "dataframe",
              "variable_name": "df",
              "summary": "{\n  \"name\": \"df\",\n  \"rows\": 1000,\n  \"fields\": [\n    {\n      \"column\": \"Linguagens\",\n      \"properties\": {\n        \"dtype\": \"number\",\n        \"std\": 84.00931315971195,\n        \"min\": 287.0,\n        \"max\": 804.4563171927,\n        \"num_unique_values\": 896,\n        \"samples\": [\n          638.5729576994,\n          458.5772735297,\n          469.6368972844\n        ],\n        \"semantic_type\": \"\",\n        \"description\": \"\"\n      }\n    },\n    {\n      \"column\": \"Ci\\u00eancias humanas\",\n      \"properties\": {\n        \"dtype\": \"number\",\n        \"std\": 77.81151916399479,\n        \"min\": 289.9,\n        \"max\": 763.9196954613,\n        \"num_unique_values\": 935,\n        \"samples\": [\n          552.953806862,\n          648.4281845758,\n          519.0714634707\n        ],\n        \"semantic_type\": \"\",\n        \"description\": \"\"\n      }\n    },\n    {\n      \"column\": \"Ci\\u00eancias da natureza\",\n      \"properties\": {\n        \"dtype\": \"number\",\n        \"std\": 78.76040369093826,\n        \"min\": 314.4,\n        \"max\": 802.0045683513,\n        \"num_unique_values\": 821,\n        \"samples\": [\n          472.110329659,\n          468.0927320977,\n          391.1238460543\n        ],\n        \"semantic_type\": \"\",\n        \"description\": \"\"\n      }\n    },\n    {\n      \"column\": \"Matem\\u00e1tica\",\n      \"properties\": {\n        \"dtype\": \"number\",\n        \"std\": 86.64810003261282,\n        \"min\": 319.8,\n        \"max\": 807.8779018921,\n        \"num_unique_values\": 918,\n        \"samples\": [\n          577.6921115123,\n          562.8560894807,\n          464.1971411718\n        ],\n        \"semantic_type\": \"\",\n        \"description\": \"\"\n      }\n    },\n    {\n      \"column\": \"Reda\\u00e7\\u00e3o\",\n      \"properties\": {\n        \"dtype\": \"number\",\n        \"std\": 115.33997244479167,\n        \"min\": 270.8399648605,\n        \"max\": 1000.0,\n        \"num_unique_values\": 860,\n        \"samples\": [\n          482.1791420587,\n          687.1614107203,\n          572.6498716449\n        ],\n        \"semantic_type\": \"\",\n        \"description\": \"\"\n      }\n    },\n    {\n      \"column\": \"Sexo\",\n      \"properties\": {\n        \"dtype\": \"category\",\n        \"num_unique_values\": 3,\n        \"samples\": [\n          \"Homem\",\n          \"Mulher\",\n          \"N\\u00e3o idenficado\"\n        ],\n        \"semantic_type\": \"\",\n        \"description\": \"\"\n      }\n    }\n  ]\n}"
            }
          },
          "metadata": {},
          "execution_count": 59
        }
      ]
    },
    {
      "cell_type": "code",
      "source": [
        "# Calcula a amplitude para cada disciplina\n",
        "amplitudes = df.loc[:, ['Linguagens', 'Ciências humanas', 'Ciências da natureza', 'Matemática', 'Redação']].apply(lambda x: x.max() - x.min())\n",
        "\n",
        "# Encontra a disciplina com a maior amplitude\n",
        "disciplina_maior_amplitude = amplitudes.idxmax()\n",
        "\n",
        "# Imprime o resultado\n",
        "print(f\"A disciplina com a maior amplitude de nota é: {disciplina_maior_amplitude}\")"
      ],
      "metadata": {
        "colab": {
          "base_uri": "https://localhost:8080/"
        },
        "id": "EmdCAPPm1XHh",
        "outputId": "2c4520ec-671f-4a41-8b79-f1b969124ecd"
      },
      "execution_count": 16,
      "outputs": [
        {
          "output_type": "stream",
          "name": "stdout",
          "text": [
            "A disciplina com a maior amplitude de nota é: Redação\n"
          ]
        }
      ]
    },
    {
      "cell_type": "markdown",
      "source": [
        "# Questão 2\n",
        "\n",
        "######Qual é a média e a mediana para cada uma das disciplinas? (Lembre-se de remover todos os valores nulos quando considerar a mediana)"
      ],
      "metadata": {
        "id": "FI0SEEeR14UB"
      }
    },
    {
      "cell_type": "code",
      "source": [
        "# Calcula a média e a mediana para cada disciplina, removendo valores nulos para a mediana\n",
        "medias = df.loc[:, ['Linguagens', 'Ciências humanas', 'Ciências da natureza', 'Matemática', 'Redação']].mean()\n",
        "medianas = df.loc[:, ['Linguagens', 'Ciências humanas', 'Ciências da natureza', 'Matemática', 'Redação']].median()\n",
        "\n",
        "\n",
        "# Imprime os resultados\n",
        "print(\"Médias:\")\n",
        "print(medias)\n",
        "print(\"\\nMedianas:\")\n",
        "print(medianas)"
      ],
      "metadata": {
        "colab": {
          "base_uri": "https://localhost:8080/"
        },
        "id": "0Kuq10qs2Fe5",
        "outputId": "3111443e-f775-4ac6-c4e0-7e00606850cb"
      },
      "execution_count": 18,
      "outputs": [
        {
          "output_type": "stream",
          "name": "stdout",
          "text": [
            "Médias:\n",
            "Linguagens              514.524809\n",
            "Ciências humanas        527.042281\n",
            "Ciências da natureza    499.315583\n",
            "Matemática              535.965660\n",
            "Redação                 637.783532\n",
            "dtype: float64\n",
            "\n",
            "Medianas:\n",
            "Linguagens              515.045250\n",
            "Ciências humanas        524.519920\n",
            "Ciências da natureza    500.479263\n",
            "Matemática              533.247767\n",
            "Redação                 635.273973\n",
            "dtype: float64\n"
          ]
        }
      ]
    },
    {
      "cell_type": "markdown",
      "source": [
        "# Questão 3\n",
        "\n",
        "Considerando o curso de Ciência da Computação da UFPE, onde o peso cada uma das disciplinas ponderado:\n",
        "\n",
        "a. Redação - 2\n",
        "\n",
        "b. Matemática e suas Tecnologias - 4\n",
        "\n",
        "c. Linguagens, Códigos e suas Tecnologias - 2\n",
        "\n",
        "d. Ciências Humanas e suas Tecnologias - 1\n",
        "\n",
        "e. Ciências da Natureza e suas Tecnologias - 1\n",
        "\n",
        "Qual o desvio padrão e média das notas dos 500 estudantes mais bem colocados considerando esses pesos?"
      ],
      "metadata": {
        "id": "HsYuBuSN3T8x"
      }
    },
    {
      "cell_type": "code",
      "source": [
        "#Calcular a nota ponderada - Divide-se por 10 pois é a soma dos pesos\n",
        "df['nota_ponderada'] = (df['Redação'] * 2 + df['Matemática'] * 4 + df['Linguagens'] * 2 + df['Ciências humanas'] * 1 + df['Ciências da natureza'] * 1) / 10\n",
        "\n",
        "#Ordenar por nota ponderada e selecionar os 500 primeiros:\n",
        "df_ordenado = df.sort_values(by=['nota_ponderada'], ascending=False)\n",
        "top_500 = df_ordenado.head(500)\n",
        "\n",
        "#Calcular a média e o desvio padrão da nota ponderada para os 500 primeiros:\n",
        "media_top_500 = top_500['nota_ponderada'].mean()\n",
        "desvio_padrao_top_500 = top_500['nota_ponderada'].std()\n",
        "\n",
        "#Imprimir os resultados:\n",
        "print(f\"Média dos 500 estudantes mais bem colocados: {media_top_500}\")\n",
        "print(f\"Desvio padrão dos 500 estudantes mais bem colocados: {desvio_padrao_top_500}\")"
      ],
      "metadata": {
        "colab": {
          "base_uri": "https://localhost:8080/"
        },
        "id": "kgm8Bz1n3fFZ",
        "outputId": "fd78bc5e-9bb8-4140-f4ef-2b4a79c6b6f6"
      },
      "execution_count": 23,
      "outputs": [
        {
          "output_type": "stream",
          "name": "stdout",
          "text": [
            "Média dos 500 estudantes mais bem colocados: 557.2896772018769\n",
            "Desvio padrão dos 500 estudantes mais bem colocados: 40.435866299464266\n"
          ]
        }
      ]
    },
    {
      "cell_type": "markdown",
      "source": [
        "# Questão 4\n",
        "\n",
        "Se todos esses estudantes aplicassem para ciência da computação e existem apenas 40 vagas, qual seria a variância e média da nota dos estudantes que entraram no curso de ciência da computação?"
      ],
      "metadata": {
        "id": "akuoVX1v4rXR"
      }
    },
    {
      "cell_type": "code",
      "source": [
        "#Ordenar por nota ponderada e selecionar os 40 primeiros:\n",
        "df_ordenado = df.sort_values(by=['nota_ponderada'], ascending=False)\n",
        "top_40 = df_ordenado.head(40)\n",
        "\n",
        "#Calcular a média e a variância da nota ponderada para os 40 primeiros:\n",
        "media_top_40 = top_40['nota_ponderada'].mean()\n",
        "variancia_top_40 = top_40['nota_ponderada'].var()\n",
        "\n",
        "#Imprimir os resultados:\n",
        "print(f\"Média dos 40 estudantes que entraram: {media_top_40}\")\n",
        "print(f\"Variância dos 40 estudantes que entraram: {variancia_top_40}\")"
      ],
      "metadata": {
        "colab": {
          "base_uri": "https://localhost:8080/"
        },
        "id": "Z51aC9DM4yJp",
        "outputId": "92c588a2-13e7-4c2f-eb04-8922edd67c6d"
      },
      "execution_count": 24,
      "outputs": [
        {
          "output_type": "stream",
          "name": "stdout",
          "text": [
            "Média dos 40 estudantes que entraram: 636.6827415075188\n",
            "Variância dos 40 estudantes que entraram: 295.76750360041007\n"
          ]
        }
      ]
    },
    {
      "cell_type": "markdown",
      "source": [
        "# Questão 5\n",
        "\n",
        "Qual o valor do teto do terceiro quartil para as disciplinas de matemática e linguagens?"
      ],
      "metadata": {
        "id": "vvmU70BC5LDI"
      }
    },
    {
      "cell_type": "code",
      "source": [
        "# Calcula o terceiro quartil para matemática e linguagens\n",
        "terceiro_quartil_matematica = df['Matemática'].quantile(0.75)\n",
        "terceiro_quartil_linguagens = df['Linguagens'].quantile(0.75)\n",
        "\n",
        "# Calcula o teto do terceiro quartil (arredondando para cima)\n",
        "teto_matematica = np.ceil(terceiro_quartil_matematica)\n",
        "teto_linguagens = np.ceil(terceiro_quartil_linguagens)\n",
        "\n",
        "# Imprime os resultados\n",
        "print(f\"Teto do terceiro quartil para matemática: {teto_matematica}\")\n",
        "print(f\"Teto do terceiro quartil para linguagens: {teto_linguagens}\")"
      ],
      "metadata": {
        "colab": {
          "base_uri": "https://localhost:8080/"
        },
        "id": "ACN82mzh5LmJ",
        "outputId": "62c2c814-1438-4b3a-ec02-7abd6697ec2e"
      },
      "execution_count": 30,
      "outputs": [
        {
          "output_type": "stream",
          "name": "stdout",
          "text": [
            "Teto do terceiro quartil para matemática: 593.0\n",
            "Teto do terceiro quartil para linguagens: 572.0\n"
          ]
        }
      ]
    },
    {
      "cell_type": "markdown",
      "source": [
        "# Questão 6\n",
        "\n",
        "Faça o histograma de Redação e Linguagens, de 20 em 20 pontos. Podemos dizer que são histogramas simétricos,  justifique e classifique se não assimétricas?"
      ],
      "metadata": {
        "id": "stmle0Ip63_J"
      }
    },
    {
      "cell_type": "code",
      "source": [
        "# Plotando histogramas para Redação e Linguagens com intervalos de 20 em 20 pontos\n",
        "plt.figure(figsize=(14, 6))\n",
        "\n",
        "# Histograma Redação\n",
        "plt.subplot(1, 2, 1)\n",
        "plt.hist(df['Redação'].dropna(), bins=range(int(df['Redação'].min()), int(df['Redação'].max()) + 20, 20), color='blue', alpha=0.7, edgecolor='black')\n",
        "plt.title('Histograma Redação')\n",
        "plt.xlabel('Nota')\n",
        "plt.ylabel('Frequência')\n",
        "\n",
        "# Histograma Linguagens\n",
        "plt.subplot(1, 2, 2)\n",
        "plt.hist(df['Linguagens'].dropna(), bins=range(int(df['Linguagens'].min()), int(df['Linguagens'].max()) + 20, 20), color='green', alpha=0.7, edgecolor='black')\n",
        "plt.title('Histograma Linguagens')\n",
        "plt.xlabel('Nota')\n",
        "plt.ylabel('Frequência')\n",
        "\n",
        "plt.tight_layout()\n",
        "plt.show()\n"
      ],
      "metadata": {
        "colab": {
          "base_uri": "https://localhost:8080/",
          "height": 607
        },
        "id": "C8wqxL9X9AZY",
        "outputId": "73293ac2-d7dc-40ab-c819-6635cb25919e"
      },
      "execution_count": 42,
      "outputs": [
        {
          "output_type": "display_data",
          "data": {
            "text/plain": [
              "<Figure size 1400x600 with 2 Axes>"
            ],
            "image/png": "[encoded data removed]"
          },
          "metadata": {}
        }
      ]
    },
    {
      "cell_type": "markdown",
      "source": [
        "\n",
        "  O histograma de Redação é assimétrico à direita.\n",
        "  \n",
        "  O histograma de Linguagens é assimétrico à esquerda.\n"
      ],
      "metadata": {
        "id": "zCfnUPb-7dfg"
      }
    },
    {
      "cell_type": "code",
      "source": [
        "#Utilizando Pyhton para provar se é simétrico ou não\n",
        "#Se o coeficiente de assimetria for próximo de 0, a distribuição é aproximadamente simétrica.\n",
        "#Se o coeficiente de assimetria for positivo, a distribuição é assimétrica à direita (positiva).\n",
        "#Se o coeficiente de assimetria for negativo, a distribuição é assimétrica à esquerda (negativa).\n",
        "\n",
        "skewness_redacao = df['Redação'].skew()\n",
        "skewness_linguagens = df['Linguagens'].skew()\n",
        "\n",
        "print(f\"Coeficiente de assimetria para Redação: {skewness_redacao}\")\n",
        "print(f\"Coeficiente de assimetria para Linguagens: {skewness_linguagens}\")"
      ],
      "metadata": {
        "colab": {
          "base_uri": "https://localhost:8080/"
        },
        "id": "llex1SPV7gkh",
        "outputId": "f8419450-4ca8-4407-c1cd-4f28c93c82df"
      },
      "execution_count": 34,
      "outputs": [
        {
          "output_type": "stream",
          "name": "stdout",
          "text": [
            "Coeficiente de assimetria para Redação: 0.06531797121273347\n",
            "Coeficiente de assimetria para Linguagens: 0.07531804986140535\n"
          ]
        }
      ]
    },
    {
      "cell_type": "code",
      "source": [
        "#Utilizando Pyhton para provar se é simétrico ou não\n",
        "#Se a média for maior que a mediana, a distribuição é assimétrica à direita (positiva).\n",
        "#Se a média for menor que a mediana, a distribuição é assimétrica à esquerda (negativa).\n",
        "#Se a média for aproximadamente igual à mediana, a distribuição é aproximadamente simétrica.\n",
        "\n",
        "media_redacao = df['Redação'].mean()\n",
        "mediana_redacao = df['Redação'].median()\n",
        "\n",
        "media_linguagens = df['Linguagens'].mean()\n",
        "mediana_linguagens = df['Linguagens'].median()\n",
        "\n",
        "print(f\"Redação - Média: {media_redacao}, Mediana: {mediana_redacao}\")\n",
        "print(f\"Linguagens - Média: {media_linguagens}, Mediana: {mediana_linguagens}\")"
      ],
      "metadata": {
        "colab": {
          "base_uri": "https://localhost:8080/"
        },
        "id": "UxUrmPO-8LnY",
        "outputId": "9d9fc91e-6f24-4670-c6d8-71a84fc0bc94"
      },
      "execution_count": 37,
      "outputs": [
        {
          "output_type": "stream",
          "name": "stdout",
          "text": [
            "Redação - Média: 637.7835320695872, Mediana: 635.27397319435\n",
            "Linguagens - Média: 514.5248092106333, Mediana: 515.0452497632\n"
          ]
        }
      ]
    },
    {
      "cell_type": "markdown",
      "source": [
        "# Questão 7\n",
        "\n",
        "Agora coloque um range fixo de 0 até 1000, você ainda tem a mesma opinião quanto a simetria? [plt.hist(dado, bins=_,range=[0, 1000])"
      ],
      "metadata": {
        "id": "AnQOJ9om8lJ5"
      }
    },
    {
      "cell_type": "code",
      "source": [
        "plt.figure(figsize=(14, 6))\n",
        "\n",
        "# Histograma Redação com range fixo\n",
        "plt.subplot(1, 2, 1)\n",
        "plt.hist(df['Redação'].dropna(), bins=50, range=[0, 1000], color='blue', alpha=0.7, edgecolor='black')\n",
        "plt.title('Histograma Redação (Range 0-1000)')\n",
        "plt.xlabel('Nota')\n",
        "plt.ylabel('Frequência')\n",
        "\n",
        "# Histograma Linguagens com range fixo\n",
        "plt.subplot(1, 2, 2)\n",
        "plt.hist(df['Linguagens'].dropna(), bins=50, range=[0, 1000], color='green', alpha=0.7, edgecolor='black')\n",
        "plt.title('Histograma Linguagens (Range 0-1000)')\n",
        "plt.xlabel('Nota')\n",
        "plt.ylabel('Frequência')\n",
        "\n",
        "plt.tight_layout()\n",
        "plt.show()"
      ],
      "metadata": {
        "colab": {
          "base_uri": "https://localhost:8080/",
          "height": 607
        },
        "id": "evqgb7IK8sCx",
        "outputId": "c4c57625-6c24-491a-8451-20fdbde9da18"
      },
      "execution_count": 41,
      "outputs": [
        {
          "output_type": "display_data",
          "data": {
            "text/plain": [
              "<Figure size 1400x600 with 2 Axes>"
            ],
            "image/png": "[encoded data removed]"
          },
          "metadata": {}
        }
      ]
    },
    {
      "cell_type": "markdown",
      "source": [
        "# Questão 8\n",
        "\n",
        "Faça um boxplot para as notas de Ciências da Natureza e Redação, analisando os quartis e identificando possíveis outliers. Utilize o método IQR (Intervalo Interquartílico)\n",
        "para essa análise."
      ],
      "metadata": {
        "id": "ANyoBlyY96Zn"
      }
    },
    {
      "cell_type": "code",
      "source": [
        "import seaborn as sns\n",
        "\n",
        "#Criando os boxplots\n",
        "plt.figure(figsize=(10, 6))\n",
        "\n",
        "#Boxplot para Ciências da Natureza\n",
        "plt.subplot(1, 2, 1)\n",
        "sns.boxplot(y=df['Ciências da natureza'], color='orange')\n",
        "plt.title('Boxplot - Ciências da Natureza')\n",
        "plt.ylabel('Nota')\n",
        "\n",
        "#Boxplot para Redação\n",
        "plt.subplot(1, 2, 2)\n",
        "sns.boxplot(y=df['Redação'], color='blue')\n",
        "plt.title('Boxplot - Redação')\n",
        "plt.ylabel('Nota')\n",
        "\n",
        "plt.tight_layout()\n",
        "plt.show()\n",
        "\n",
        "\n",
        "#Calculando IQR e identificando outliers\n",
        "def identificar_outliers_iqr(dados):\n",
        "    Q1 = dados.quantile(0.25)\n",
        "    Q3 = dados.quantile(0.75)\n",
        "    IQR = Q3 - Q1\n",
        "    limite_inferior = Q1 - 1.5 * IQR\n",
        "    limite_superior = Q3 + 1.5 * IQR\n",
        "    outliers = dados[(dados < limite_inferior) | (dados > limite_superior)]\n",
        "    return outliers\n",
        "\n",
        "outliers_ciencias_naturais = identificar_outliers_iqr(df['Ciências da natureza'])\n",
        "outliers_redacao = identificar_outliers_iqr(df['Redação'])\n",
        "\n",
        "print(f\"Outliers em Ciências da Natureza: {outliers_ciencias_naturais.tolist()}\")\n",
        "print(f\"Outliers em Redação: {outliers_redacao.tolist()}\")"
      ],
      "metadata": {
        "colab": {
          "base_uri": "https://localhost:8080/",
          "height": 643
        },
        "id": "_It_nUOX-VI4",
        "outputId": "5be98e23-3bf7-4059-d34b-1dce3baa45ff"
      },
      "execution_count": 64,
      "outputs": [
        {
          "output_type": "display_data",
          "data": {
            "text/plain": [
              "<Figure size 1000x600 with 2 Axes>"
            ],
            "image/png": "[encoded data removed]"
          },
          "metadata": {}
        },
        {
          "output_type": "stream",
          "name": "stdout",
          "text": [
            "Outliers em Ciências da Natureza: []\n",
            "Outliers em Redação: []\n"
          ]
        }
      ]
    },
    {
      "cell_type": "markdown",
      "source": [
        "# Questão 9\n",
        "\n",
        "Remova todos os outliers e verifique se eles são passíveis de alterar a média nacional significativamente? (considere significativamente um valor acima de 5%)."
      ],
      "metadata": {
        "id": "cD08VOtT_AaD"
      }
    },
    {
      "cell_type": "code",
      "source": [
        "#Identificar e remover outliers (usando o método IQR da questão anterior)\n",
        "def identificar_outliers_iqr(dados):\n",
        "    Q1 = dados.quantile(0.25)\n",
        "    Q3 = dados.quantile(0.75)\n",
        "    IQR = Q3 - Q1\n",
        "    limite_inferior = Q1 - 1.5 * IQR\n",
        "    limite_superior = Q3 + 1.5 * IQR\n",
        "    outliers = dados[(dados < limite_inferior) | (dados > limite_superior)]\n",
        "    return outliers\n",
        "\n",
        "#Calcular a média original\n",
        "media_original = df[['Linguagens', 'Ciências humanas', 'Ciências da natureza', 'Matemática', 'Redação']].mean()\n",
        "\n",
        "#Removendo os outliers do DataFrame\n",
        "for coluna in ['Linguagens', 'Ciências humanas', 'Ciências da natureza', 'Matemática', 'Redação']:\n",
        "    outliers = identificar_outliers_iqr(df[coluna])\n",
        "    df = df[~df[coluna].isin(outliers)]\n",
        "\n",
        "#Calcular a media sem os outliers\n",
        "media_sem_outliers = df[['Linguagens', 'Ciências humanas', 'Ciências da natureza', 'Matemática', 'Redação']].mean()\n",
        "\n",
        "#Calcular a diferença percentual\n",
        "diferenca_percentual = abs((media_sem_outliers - media_original) / media_original) * 100\n",
        "\n",
        "#Verificar se a diferença é significativa\n",
        "significativo = diferenca_percentual > 5\n",
        "\n",
        "#Imprimir os resultados\n",
        "print(\"Média original:\")\n",
        "print(media_original)\n",
        "print(\"\\nMédia sem outliers:\")\n",
        "print(media_sem_outliers)\n",
        "print(\"\\nDiferença percentual:\")\n",
        "print(diferenca_percentual)\n",
        "print(\"\\nSignificativo:\", significativo)"
      ],
      "metadata": {
        "colab": {
          "base_uri": "https://localhost:8080/"
        },
        "id": "kUiXoeOO_R33",
        "outputId": "b062ecca-e5b3-4059-bd8f-ec86d2baee0d"
      },
      "execution_count": 60,
      "outputs": [
        {
          "output_type": "stream",
          "name": "stdout",
          "text": [
            "Média original:\n",
            "Linguagens              514.524809\n",
            "Ciências humanas        527.042281\n",
            "Ciências da natureza    499.315583\n",
            "Matemática              535.965660\n",
            "Redação                 637.783532\n",
            "dtype: float64\n",
            "\n",
            "Média sem outliers:\n",
            "Linguagens              513.914745\n",
            "Ciências humanas        525.912524\n",
            "Ciências da natureza    497.908755\n",
            "Matemática              535.685299\n",
            "Redação                 636.332929\n",
            "dtype: float64\n",
            "\n",
            "Diferença percentual:\n",
            "Linguagens              0.118568\n",
            "Ciências humanas        0.214358\n",
            "Ciências da natureza    0.281751\n",
            "Matemática              0.052310\n",
            "Redação                 0.227444\n",
            "dtype: float64\n",
            "\n",
            "Significativo: Linguagens              False\n",
            "Ciências humanas        False\n",
            "Ciências da natureza    False\n",
            "Matemática              False\n",
            "Redação                 False\n",
            "dtype: bool\n"
          ]
        }
      ]
    },
    {
      "cell_type": "markdown",
      "source": [
        "# Questão 10\n",
        "Considerando valores nulos, tente encontrar qual seria a melhor medida de tendência que pode substituir as notas nulas. Média, moda ou mediana? Substitua o valor por todos os três e diga qual delas altera menos a média geral e o desvio padrão."
      ],
      "metadata": {
        "id": "1PCEAIPvAv7A"
      }
    },
    {
      "cell_type": "code",
      "source": [
        "#Excluindo coluna sexo por não ser necessária na analise\n",
        "df = df.drop(columns=['Sexo'])"
      ],
      "metadata": {
        "id": "Zf5umUFPB9KQ"
      },
      "execution_count": 63,
      "outputs": []
    },
    {
      "cell_type": "code",
      "source": [
        "media_original = df.mean()\n",
        "desvio_padrao_original = df.std()"
      ],
      "metadata": {
        "id": "VvanVYbpCl_I"
      },
      "execution_count": 65,
      "outputs": []
    },
    {
      "cell_type": "code",
      "source": [
        "df_media = df.fillna(df.mean())\n",
        "media_com_media = df_media.mean()\n",
        "desvio_padrao_com_media = df_media.std()"
      ],
      "metadata": {
        "id": "NZnDt7aXCqB_"
      },
      "execution_count": 66,
      "outputs": []
    },
    {
      "cell_type": "code",
      "source": [
        "df_mediana = df.fillna(df.median())\n",
        "media_com_mediana = df_mediana.mean()\n",
        "desvio_padrao_com_mediana = df_mediana.std()"
      ],
      "metadata": {
        "id": "3rPjU3OQCsun"
      },
      "execution_count": 67,
      "outputs": []
    },
    {
      "cell_type": "code",
      "source": [
        "df_moda = df.fillna(df.mode().iloc[0])\n",
        "media_com_moda = df_moda.mean()\n",
        "desvio_padrao_com_moda = df_moda.std()"
      ],
      "metadata": {
        "id": "OllhYwv1CuuH"
      },
      "execution_count": 68,
      "outputs": []
    },
    {
      "cell_type": "code",
      "source": [
        "print(\"Mudança na média:\")\n",
        "print(\"Com média:\", abs(media_com_media - media_original))\n",
        "print(\"Com mediana:\", abs(media_com_mediana - media_original))\n",
        "print(\"Com moda:\", abs(media_com_moda - media_original))\n",
        "\n",
        "print(\"\\nMudança no desvio padrão:\")\n",
        "print(\"Com média:\", abs(desvio_padrao_com_media - desvio_padrao_original))\n",
        "print(\"Com mediana:\", abs(desvio_padrao_com_mediana - desvio_padrao_original))\n",
        "print(\"Com moda:\", abs(desvio_padrao_com_moda - desvio_padrao_original))"
      ],
      "metadata": {
        "colab": {
          "base_uri": "https://localhost:8080/"
        },
        "id": "RsIMdOWWCzPP",
        "outputId": "74f2cf29-a456-45f5-ae43-6862b051f9fa"
      },
      "execution_count": 69,
      "outputs": [
        {
          "output_type": "stream",
          "name": "stdout",
          "text": [
            "Mudança na média:\n",
            "Com média: Linguagens              0.000000e+00\n",
            "Ciências humanas        0.000000e+00\n",
            "Ciências da natureza    5.684342e-14\n",
            "Matemática              0.000000e+00\n",
            "Redação                 0.000000e+00\n",
            "dtype: float64\n",
            "Com mediana: Linguagens              0.085653\n",
            "Ciências humanas        0.145497\n",
            "Ciências da natureza    0.189650\n",
            "Matemática              0.197077\n",
            "Redação                 0.256657\n",
            "dtype: float64\n",
            "Com moda: Linguagens              21.340390\n",
            "Ciências humanas        13.468905\n",
            "Ciências da natureza    32.085887\n",
            "Matemática              16.555621\n",
            "Redação                 43.401852\n",
            "dtype: float64\n",
            "\n",
            "Mudança no desvio padrão:\n",
            "Com média: Linguagens              4.383546\n",
            "Ciências humanas        2.522358\n",
            "Ciências da natureza    7.095499\n",
            "Matemática              3.326407\n",
            "Redação                 8.155699\n",
            "dtype: float64\n",
            "Com mediana: Linguagens              4.383138\n",
            "Ciências humanas        2.520291\n",
            "Ciências da natureza    7.094290\n",
            "Matemática              3.323540\n",
            "Redação                 8.153751\n",
            "dtype: float64\n",
            "Com moda: Linguagens              17.790654\n",
            "Ciências humanas        13.448752\n",
            "Ciências da natureza    21.637653\n",
            "Matemática              14.875723\n",
            "Redação                 37.570592\n",
            "dtype: float64\n"
          ]
        }
      ]
    }
  ]
}