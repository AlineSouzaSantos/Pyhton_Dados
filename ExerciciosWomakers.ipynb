{
  "nbformat": 4,
  "nbformat_minor": 0,
  "metadata": {
    "colab": {
      "provenance": [],
      "authorship_tag": "ABX9TyMz6JR2nvquQJJExR57u2W7",
      "include_colab_link": true
    },
    "kernelspec": {
      "name": "python3",
      "display_name": "Python 3"
    },
    "language_info": {
      "name": "python"
    }
  },
  "cells": [
    {
      "cell_type": "markdown",
      "metadata": {
        "id": "view-in-github",
        "colab_type": "text"
      },
      "source": [
        "<a href=\"https://colab.research.google.com/github/AlineSouzaSantos/Pyhton_Dados/blob/master/ExerciciosWomakers.ipynb\" target=\"_parent\"><img src=\"https://colab.research.google.com/assets/colab-badge.svg\" alt=\"Open In Colab\"/></a>"
      ]
    },
    {
      "cell_type": "markdown",
      "source": [
        "# Exercício 1\n",
        "\n",
        "Definição do problema: Dado o código do dataset retorne as seguintes\n",
        " informações:\n",
        "1. Importe o dataset utilizando a seguinte função do pydataset:\n",
        "data(“Código”)\n",
        "2. Imprimir na tela o dataset;\n",
        "3. Informe o tipo de dados retornado pela função data;\n",
        "4. Informe o número de exemplos (linhas) e características (colunas)  do\n",
        " dataset.\n",
        "5. Crie uma função que ao receber um DataFrame retorna o\n",
        " número de  linhas e colunas.\n",
        "\n",
        "\n",
        "Código do dataset: iris\n",
        "\n",
        "Dicas:\n",
        "iris é um dataset consiste em 50 amostras de cada uma das três espécies de Iris ( Iris setosa, Iris virginica e Iris versicolor).;\n",
        "\n",
        "função built-in (nativa da linguagem Python): type()\n",
        "\n",
        "atributo do DataFrame: shape"
      ],
      "metadata": {
        "id": "NRPt4Jcufs4r"
      }
    },
    {
      "cell_type": "code",
      "source": [
        "!pip install pydataset"
      ],
      "metadata": {
        "colab": {
          "base_uri": "https://localhost:8080/"
        },
        "id": "zSC8vQO6fZRD",
        "outputId": "fab8b2a2-9a33-4706-8e7a-73d94b69c1b8"
      },
      "execution_count": 2,
      "outputs": [
        {
          "output_type": "stream",
          "name": "stdout",
          "text": [
            "Collecting pydataset\n",
            "  Downloading pydataset-0.2.0.tar.gz (15.9 MB)\n",
            "\u001b[2K     \u001b[90m━━━━━━━━━━━━━━━━━━━━━━━━━━━━━━━━━━━━━━━━\u001b[0m \u001b[32m15.9/15.9 MB\u001b[0m \u001b[31m28.2 MB/s\u001b[0m eta \u001b[36m0:00:00\u001b[0m\n",
            "\u001b[?25h  Preparing metadata (setup.py) ... \u001b[?25l\u001b[?25hdone\n",
            "Requirement already satisfied: pandas in /usr/local/lib/python3.11/dist-packages (from pydataset) (2.2.2)\n",
            "Requirement already satisfied: numpy>=1.23.2 in /usr/local/lib/python3.11/dist-packages (from pandas->pydataset) (1.26.4)\n",
            "Requirement already satisfied: python-dateutil>=2.8.2 in /usr/local/lib/python3.11/dist-packages (from pandas->pydataset) (2.8.2)\n",
            "Requirement already satisfied: pytz>=2020.1 in /usr/local/lib/python3.11/dist-packages (from pandas->pydataset) (2025.1)\n",
            "Requirement already satisfied: tzdata>=2022.7 in /usr/local/lib/python3.11/dist-packages (from pandas->pydataset) (2025.1)\n",
            "Requirement already satisfied: six>=1.5 in /usr/local/lib/python3.11/dist-packages (from python-dateutil>=2.8.2->pandas->pydataset) (1.17.0)\n",
            "Building wheels for collected packages: pydataset\n",
            "  Building wheel for pydataset (setup.py) ... \u001b[?25l\u001b[?25hdone\n",
            "  Created wheel for pydataset: filename=pydataset-0.2.0-py3-none-any.whl size=15939417 sha256=5544353d21f456cc312dc4ed91612186f1e73473900ac796a51094693abd26c8\n",
            "  Stored in directory: /root/.cache/pip/wheels/29/93/3f/af54c413cecaac292940342c61882d2a8848674175d0bb0889\n",
            "Successfully built pydataset\n",
            "Installing collected packages: pydataset\n",
            "Successfully installed pydataset-0.2.0\n"
          ]
        }
      ]
    },
    {
      "cell_type": "code",
      "execution_count": 3,
      "metadata": {
        "colab": {
          "base_uri": "https://localhost:8080/"
        },
        "id": "dxuuOhj0evaN",
        "outputId": "fa1c124b-c89d-4f1c-d75e-c8093e590d08"
      },
      "outputs": [
        {
          "output_type": "stream",
          "name": "stdout",
          "text": [
            "initiated datasets repo at: /root/.pydataset/\n"
          ]
        }
      ],
      "source": [
        "from pydataset import data"
      ]
    },
    {
      "cell_type": "code",
      "source": [
        "#1\n",
        "iris = data('iris')"
      ],
      "metadata": {
        "id": "E56z5u6bgDRj"
      },
      "execution_count": 4,
      "outputs": []
    },
    {
      "cell_type": "code",
      "source": [
        "#2\n",
        "print(iris)"
      ],
      "metadata": {
        "colab": {
          "base_uri": "https://localhost:8080/"
        },
        "id": "9HLWgiNGgIZ0",
        "outputId": "44fc8a54-58e1-4928-c992-0ef1ecb81ea0"
      },
      "execution_count": 5,
      "outputs": [
        {
          "output_type": "stream",
          "name": "stdout",
          "text": [
            "     Sepal.Length  Sepal.Width  Petal.Length  Petal.Width     Species\n",
            "1             5.1          3.5           1.4          0.2      setosa\n",
            "2             4.9          3.0           1.4          0.2      setosa\n",
            "3             4.7          3.2           1.3          0.2      setosa\n",
            "4             4.6          3.1           1.5          0.2      setosa\n",
            "5             5.0          3.6           1.4          0.2      setosa\n",
            "6             5.4          3.9           1.7          0.4      setosa\n",
            "7             4.6          3.4           1.4          0.3      setosa\n",
            "8             5.0          3.4           1.5          0.2      setosa\n",
            "9             4.4          2.9           1.4          0.2      setosa\n",
            "10            4.9          3.1           1.5          0.1      setosa\n",
            "11            5.4          3.7           1.5          0.2      setosa\n",
            "12            4.8          3.4           1.6          0.2      setosa\n",
            "13            4.8          3.0           1.4          0.1      setosa\n",
            "14            4.3          3.0           1.1          0.1      setosa\n",
            "15            5.8          4.0           1.2          0.2      setosa\n",
            "16            5.7          4.4           1.5          0.4      setosa\n",
            "17            5.4          3.9           1.3          0.4      setosa\n",
            "18            5.1          3.5           1.4          0.3      setosa\n",
            "19            5.7          3.8           1.7          0.3      setosa\n",
            "20            5.1          3.8           1.5          0.3      setosa\n",
            "21            5.4          3.4           1.7          0.2      setosa\n",
            "22            5.1          3.7           1.5          0.4      setosa\n",
            "23            4.6          3.6           1.0          0.2      setosa\n",
            "24            5.1          3.3           1.7          0.5      setosa\n",
            "25            4.8          3.4           1.9          0.2      setosa\n",
            "26            5.0          3.0           1.6          0.2      setosa\n",
            "27            5.0          3.4           1.6          0.4      setosa\n",
            "28            5.2          3.5           1.5          0.2      setosa\n",
            "29            5.2          3.4           1.4          0.2      setosa\n",
            "30            4.7          3.2           1.6          0.2      setosa\n",
            "31            4.8          3.1           1.6          0.2      setosa\n",
            "32            5.4          3.4           1.5          0.4      setosa\n",
            "33            5.2          4.1           1.5          0.1      setosa\n",
            "34            5.5          4.2           1.4          0.2      setosa\n",
            "35            4.9          3.1           1.5          0.2      setosa\n",
            "36            5.0          3.2           1.2          0.2      setosa\n",
            "37            5.5          3.5           1.3          0.2      setosa\n",
            "38            4.9          3.6           1.4          0.1      setosa\n",
            "39            4.4          3.0           1.3          0.2      setosa\n",
            "40            5.1          3.4           1.5          0.2      setosa\n",
            "41            5.0          3.5           1.3          0.3      setosa\n",
            "42            4.5          2.3           1.3          0.3      setosa\n",
            "43            4.4          3.2           1.3          0.2      setosa\n",
            "44            5.0          3.5           1.6          0.6      setosa\n",
            "45            5.1          3.8           1.9          0.4      setosa\n",
            "46            4.8          3.0           1.4          0.3      setosa\n",
            "47            5.1          3.8           1.6          0.2      setosa\n",
            "48            4.6          3.2           1.4          0.2      setosa\n",
            "49            5.3          3.7           1.5          0.2      setosa\n",
            "50            5.0          3.3           1.4          0.2      setosa\n",
            "51            7.0          3.2           4.7          1.4  versicolor\n",
            "52            6.4          3.2           4.5          1.5  versicolor\n",
            "53            6.9          3.1           4.9          1.5  versicolor\n",
            "54            5.5          2.3           4.0          1.3  versicolor\n",
            "55            6.5          2.8           4.6          1.5  versicolor\n",
            "56            5.7          2.8           4.5          1.3  versicolor\n",
            "57            6.3          3.3           4.7          1.6  versicolor\n",
            "58            4.9          2.4           3.3          1.0  versicolor\n",
            "59            6.6          2.9           4.6          1.3  versicolor\n",
            "60            5.2          2.7           3.9          1.4  versicolor\n",
            "61            5.0          2.0           3.5          1.0  versicolor\n",
            "62            5.9          3.0           4.2          1.5  versicolor\n",
            "63            6.0          2.2           4.0          1.0  versicolor\n",
            "64            6.1          2.9           4.7          1.4  versicolor\n",
            "65            5.6          2.9           3.6          1.3  versicolor\n",
            "66            6.7          3.1           4.4          1.4  versicolor\n",
            "67            5.6          3.0           4.5          1.5  versicolor\n",
            "68            5.8          2.7           4.1          1.0  versicolor\n",
            "69            6.2          2.2           4.5          1.5  versicolor\n",
            "70            5.6          2.5           3.9          1.1  versicolor\n",
            "71            5.9          3.2           4.8          1.8  versicolor\n",
            "72            6.1          2.8           4.0          1.3  versicolor\n",
            "73            6.3          2.5           4.9          1.5  versicolor\n",
            "74            6.1          2.8           4.7          1.2  versicolor\n",
            "75            6.4          2.9           4.3          1.3  versicolor\n",
            "76            6.6          3.0           4.4          1.4  versicolor\n",
            "77            6.8          2.8           4.8          1.4  versicolor\n",
            "78            6.7          3.0           5.0          1.7  versicolor\n",
            "79            6.0          2.9           4.5          1.5  versicolor\n",
            "80            5.7          2.6           3.5          1.0  versicolor\n",
            "81            5.5          2.4           3.8          1.1  versicolor\n",
            "82            5.5          2.4           3.7          1.0  versicolor\n",
            "83            5.8          2.7           3.9          1.2  versicolor\n",
            "84            6.0          2.7           5.1          1.6  versicolor\n",
            "85            5.4          3.0           4.5          1.5  versicolor\n",
            "86            6.0          3.4           4.5          1.6  versicolor\n",
            "87            6.7          3.1           4.7          1.5  versicolor\n",
            "88            6.3          2.3           4.4          1.3  versicolor\n",
            "89            5.6          3.0           4.1          1.3  versicolor\n",
            "90            5.5          2.5           4.0          1.3  versicolor\n",
            "91            5.5          2.6           4.4          1.2  versicolor\n",
            "92            6.1          3.0           4.6          1.4  versicolor\n",
            "93            5.8          2.6           4.0          1.2  versicolor\n",
            "94            5.0          2.3           3.3          1.0  versicolor\n",
            "95            5.6          2.7           4.2          1.3  versicolor\n",
            "96            5.7          3.0           4.2          1.2  versicolor\n",
            "97            5.7          2.9           4.2          1.3  versicolor\n",
            "98            6.2          2.9           4.3          1.3  versicolor\n",
            "99            5.1          2.5           3.0          1.1  versicolor\n",
            "100           5.7          2.8           4.1          1.3  versicolor\n",
            "101           6.3          3.3           6.0          2.5   virginica\n",
            "102           5.8          2.7           5.1          1.9   virginica\n",
            "103           7.1          3.0           5.9          2.1   virginica\n",
            "104           6.3          2.9           5.6          1.8   virginica\n",
            "105           6.5          3.0           5.8          2.2   virginica\n",
            "106           7.6          3.0           6.6          2.1   virginica\n",
            "107           4.9          2.5           4.5          1.7   virginica\n",
            "108           7.3          2.9           6.3          1.8   virginica\n",
            "109           6.7          2.5           5.8          1.8   virginica\n",
            "110           7.2          3.6           6.1          2.5   virginica\n",
            "111           6.5          3.2           5.1          2.0   virginica\n",
            "112           6.4          2.7           5.3          1.9   virginica\n",
            "113           6.8          3.0           5.5          2.1   virginica\n",
            "114           5.7          2.5           5.0          2.0   virginica\n",
            "115           5.8          2.8           5.1          2.4   virginica\n",
            "116           6.4          3.2           5.3          2.3   virginica\n",
            "117           6.5          3.0           5.5          1.8   virginica\n",
            "118           7.7          3.8           6.7          2.2   virginica\n",
            "119           7.7          2.6           6.9          2.3   virginica\n",
            "120           6.0          2.2           5.0          1.5   virginica\n",
            "121           6.9          3.2           5.7          2.3   virginica\n",
            "122           5.6          2.8           4.9          2.0   virginica\n",
            "123           7.7          2.8           6.7          2.0   virginica\n",
            "124           6.3          2.7           4.9          1.8   virginica\n",
            "125           6.7          3.3           5.7          2.1   virginica\n",
            "126           7.2          3.2           6.0          1.8   virginica\n",
            "127           6.2          2.8           4.8          1.8   virginica\n",
            "128           6.1          3.0           4.9          1.8   virginica\n",
            "129           6.4          2.8           5.6          2.1   virginica\n",
            "130           7.2          3.0           5.8          1.6   virginica\n",
            "131           7.4          2.8           6.1          1.9   virginica\n",
            "132           7.9          3.8           6.4          2.0   virginica\n",
            "133           6.4          2.8           5.6          2.2   virginica\n",
            "134           6.3          2.8           5.1          1.5   virginica\n",
            "135           6.1          2.6           5.6          1.4   virginica\n",
            "136           7.7          3.0           6.1          2.3   virginica\n",
            "137           6.3          3.4           5.6          2.4   virginica\n",
            "138           6.4          3.1           5.5          1.8   virginica\n",
            "139           6.0          3.0           4.8          1.8   virginica\n",
            "140           6.9          3.1           5.4          2.1   virginica\n",
            "141           6.7          3.1           5.6          2.4   virginica\n",
            "142           6.9          3.1           5.1          2.3   virginica\n",
            "143           5.8          2.7           5.1          1.9   virginica\n",
            "144           6.8          3.2           5.9          2.3   virginica\n",
            "145           6.7          3.3           5.7          2.5   virginica\n",
            "146           6.7          3.0           5.2          2.3   virginica\n",
            "147           6.3          2.5           5.0          1.9   virginica\n",
            "148           6.5          3.0           5.2          2.0   virginica\n",
            "149           6.2          3.4           5.4          2.3   virginica\n",
            "150           5.9          3.0           5.1          1.8   virginica\n"
          ]
        }
      ]
    },
    {
      "cell_type": "code",
      "source": [
        "#3\n",
        "type(iris)"
      ],
      "metadata": {
        "colab": {
          "base_uri": "https://localhost:8080/",
          "height": 204
        },
        "id": "MLumK7bRgLCs",
        "outputId": "19bd1568-869c-491f-da71-b2d0a1fc21c0"
      },
      "execution_count": 6,
      "outputs": [
        {
          "output_type": "execute_result",
          "data": {
            "text/plain": [
              "pandas.core.frame.DataFrame"
            ],
            "text/html": [
              "<div style=\"max-width:800px; border: 1px solid var(--colab-border-color);\"><style>\n",
              "      pre.function-repr-contents {\n",
              "        overflow-x: auto;\n",
              "        padding: 8px 12px;\n",
              "        max-height: 500px;\n",
              "      }\n",
              "\n",
              "      pre.function-repr-contents.function-repr-contents-collapsed {\n",
              "        cursor: pointer;\n",
              "        max-height: 100px;\n",
              "      }\n",
              "    </style>\n",
              "    <pre style=\"white-space: initial; background:\n",
              "         var(--colab-secondary-surface-color); padding: 8px 12px;\n",
              "         border-bottom: 1px solid var(--colab-border-color);\"><b>pandas.core.frame.DataFrame</b><br/>def __init__(data=None, index: Axes | None=None, columns: Axes | None=None, dtype: Dtype | None=None, copy: bool | None=None) -&gt; None</pre><pre class=\"function-repr-contents function-repr-contents-collapsed\" style=\"\"><a class=\"filepath\" style=\"display:none\" href=\"#\">/usr/local/lib/python3.11/dist-packages/pandas/core/frame.py</a>Two-dimensional, size-mutable, potentially heterogeneous tabular data.\n",
              "\n",
              "Data structure also contains labeled axes (rows and columns).\n",
              "Arithmetic operations align on both row and column labels. Can be\n",
              "thought of as a dict-like container for Series objects. The primary\n",
              "pandas data structure.\n",
              "\n",
              "Parameters\n",
              "----------\n",
              "data : ndarray (structured or homogeneous), Iterable, dict, or DataFrame\n",
              "    Dict can contain Series, arrays, constants, dataclass or list-like objects. If\n",
              "    data is a dict, column order follows insertion-order. If a dict contains Series\n",
              "    which have an index defined, it is aligned by its index. This alignment also\n",
              "    occurs if data is a Series or a DataFrame itself. Alignment is done on\n",
              "    Series/DataFrame inputs.\n",
              "\n",
              "    If data is a list of dicts, column order follows insertion-order.\n",
              "\n",
              "index : Index or array-like\n",
              "    Index to use for resulting frame. Will default to RangeIndex if\n",
              "    no indexing information part of input data and no index provided.\n",
              "columns : Index or array-like\n",
              "    Column labels to use for resulting frame when data does not have them,\n",
              "    defaulting to RangeIndex(0, 1, 2, ..., n). If data contains column labels,\n",
              "    will perform column selection instead.\n",
              "dtype : dtype, default None\n",
              "    Data type to force. Only a single dtype is allowed. If None, infer.\n",
              "copy : bool or None, default None\n",
              "    Copy data from inputs.\n",
              "    For dict data, the default of None behaves like ``copy=True``.  For DataFrame\n",
              "    or 2d ndarray input, the default of None behaves like ``copy=False``.\n",
              "    If data is a dict containing one or more Series (possibly of different dtypes),\n",
              "    ``copy=False`` will ensure that these inputs are not copied.\n",
              "\n",
              "    .. versionchanged:: 1.3.0\n",
              "\n",
              "See Also\n",
              "--------\n",
              "DataFrame.from_records : Constructor from tuples, also record arrays.\n",
              "DataFrame.from_dict : From dicts of Series, arrays, or dicts.\n",
              "read_csv : Read a comma-separated values (csv) file into DataFrame.\n",
              "read_table : Read general delimited file into DataFrame.\n",
              "read_clipboard : Read text from clipboard into DataFrame.\n",
              "\n",
              "Notes\n",
              "-----\n",
              "Please reference the :ref:`User Guide &lt;basics.dataframe&gt;` for more information.\n",
              "\n",
              "Examples\n",
              "--------\n",
              "Constructing DataFrame from a dictionary.\n",
              "\n",
              "&gt;&gt;&gt; d = {&#x27;col1&#x27;: [1, 2], &#x27;col2&#x27;: [3, 4]}\n",
              "&gt;&gt;&gt; df = pd.DataFrame(data=d)\n",
              "&gt;&gt;&gt; df\n",
              "   col1  col2\n",
              "0     1     3\n",
              "1     2     4\n",
              "\n",
              "Notice that the inferred dtype is int64.\n",
              "\n",
              "&gt;&gt;&gt; df.dtypes\n",
              "col1    int64\n",
              "col2    int64\n",
              "dtype: object\n",
              "\n",
              "To enforce a single dtype:\n",
              "\n",
              "&gt;&gt;&gt; df = pd.DataFrame(data=d, dtype=np.int8)\n",
              "&gt;&gt;&gt; df.dtypes\n",
              "col1    int8\n",
              "col2    int8\n",
              "dtype: object\n",
              "\n",
              "Constructing DataFrame from a dictionary including Series:\n",
              "\n",
              "&gt;&gt;&gt; d = {&#x27;col1&#x27;: [0, 1, 2, 3], &#x27;col2&#x27;: pd.Series([2, 3], index=[2, 3])}\n",
              "&gt;&gt;&gt; pd.DataFrame(data=d, index=[0, 1, 2, 3])\n",
              "   col1  col2\n",
              "0     0   NaN\n",
              "1     1   NaN\n",
              "2     2   2.0\n",
              "3     3   3.0\n",
              "\n",
              "Constructing DataFrame from numpy ndarray:\n",
              "\n",
              "&gt;&gt;&gt; df2 = pd.DataFrame(np.array([[1, 2, 3], [4, 5, 6], [7, 8, 9]]),\n",
              "...                    columns=[&#x27;a&#x27;, &#x27;b&#x27;, &#x27;c&#x27;])\n",
              "&gt;&gt;&gt; df2\n",
              "   a  b  c\n",
              "0  1  2  3\n",
              "1  4  5  6\n",
              "2  7  8  9\n",
              "\n",
              "Constructing DataFrame from a numpy ndarray that has labeled columns:\n",
              "\n",
              "&gt;&gt;&gt; data = np.array([(1, 2, 3), (4, 5, 6), (7, 8, 9)],\n",
              "...                 dtype=[(&quot;a&quot;, &quot;i4&quot;), (&quot;b&quot;, &quot;i4&quot;), (&quot;c&quot;, &quot;i4&quot;)])\n",
              "&gt;&gt;&gt; df3 = pd.DataFrame(data, columns=[&#x27;c&#x27;, &#x27;a&#x27;])\n",
              "...\n",
              "&gt;&gt;&gt; df3\n",
              "   c  a\n",
              "0  3  1\n",
              "1  6  4\n",
              "2  9  7\n",
              "\n",
              "Constructing DataFrame from dataclass:\n",
              "\n",
              "&gt;&gt;&gt; from dataclasses import make_dataclass\n",
              "&gt;&gt;&gt; Point = make_dataclass(&quot;Point&quot;, [(&quot;x&quot;, int), (&quot;y&quot;, int)])\n",
              "&gt;&gt;&gt; pd.DataFrame([Point(0, 0), Point(0, 3), Point(2, 3)])\n",
              "   x  y\n",
              "0  0  0\n",
              "1  0  3\n",
              "2  2  3\n",
              "\n",
              "Constructing DataFrame from Series/DataFrame:\n",
              "\n",
              "&gt;&gt;&gt; ser = pd.Series([1, 2, 3], index=[&quot;a&quot;, &quot;b&quot;, &quot;c&quot;])\n",
              "&gt;&gt;&gt; df = pd.DataFrame(data=ser, index=[&quot;a&quot;, &quot;c&quot;])\n",
              "&gt;&gt;&gt; df\n",
              "   0\n",
              "a  1\n",
              "c  3\n",
              "\n",
              "&gt;&gt;&gt; df1 = pd.DataFrame([1, 2, 3], index=[&quot;a&quot;, &quot;b&quot;, &quot;c&quot;], columns=[&quot;x&quot;])\n",
              "&gt;&gt;&gt; df2 = pd.DataFrame(data=df1, index=[&quot;a&quot;, &quot;c&quot;])\n",
              "&gt;&gt;&gt; df2\n",
              "   x\n",
              "a  1\n",
              "c  3</pre>\n",
              "      <script>\n",
              "      if (google.colab.kernel.accessAllowed && google.colab.files && google.colab.files.view) {\n",
              "        for (const element of document.querySelectorAll('.filepath')) {\n",
              "          element.style.display = 'block'\n",
              "          element.onclick = (event) => {\n",
              "            event.preventDefault();\n",
              "            event.stopPropagation();\n",
              "            google.colab.files.view(element.textContent, 509);\n",
              "          };\n",
              "        }\n",
              "      }\n",
              "      for (const element of document.querySelectorAll('.function-repr-contents')) {\n",
              "        element.onclick = (event) => {\n",
              "          event.preventDefault();\n",
              "          event.stopPropagation();\n",
              "          element.classList.toggle('function-repr-contents-collapsed');\n",
              "        };\n",
              "      }\n",
              "      </script>\n",
              "      </div>"
            ]
          },
          "metadata": {},
          "execution_count": 6
        }
      ]
    },
    {
      "cell_type": "code",
      "source": [
        "#4\n",
        "iris.shape"
      ],
      "metadata": {
        "colab": {
          "base_uri": "https://localhost:8080/"
        },
        "id": "biVaSCAggPST",
        "outputId": "c8c570f3-d167-416c-923b-a5d69fadc3fb"
      },
      "execution_count": 8,
      "outputs": [
        {
          "output_type": "execute_result",
          "data": {
            "text/plain": [
              "(150, 5)"
            ]
          },
          "metadata": {},
          "execution_count": 8
        }
      ]
    },
    {
      "cell_type": "code",
      "source": [
        "#5\n",
        "def linhas_colunas(df):\n",
        "  return df.shape\n",
        "\n",
        "print(linhas_colunas(iris))"
      ],
      "metadata": {
        "colab": {
          "base_uri": "https://localhost:8080/"
        },
        "id": "3l6QDIg0gWhc",
        "outputId": "d2e57107-a10f-4a9c-e347-43c25994eb6d"
      },
      "execution_count": 9,
      "outputs": [
        {
          "output_type": "stream",
          "name": "stdout",
          "text": [
            "(150, 5)\n"
          ]
        }
      ]
    }
  ]
}