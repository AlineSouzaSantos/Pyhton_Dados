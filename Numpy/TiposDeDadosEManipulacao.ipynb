{
 "cells": [
  {
   "cell_type": "markdown",
   "metadata": {},
   "source": [
    "#Tipo de dados em um numpy array"
   ]
  },
  {
   "cell_type": "code",
   "execution_count": 4,
   "metadata": {},
   "outputs": [],
   "source": [
    "import numpy as np "
   ]
  },
  {
   "cell_type": "code",
   "execution_count": 3,
   "metadata": {},
   "outputs": [
    {
     "data": {
      "text/plain": [
       "dtype('int32')"
      ]
     },
     "execution_count": 3,
     "metadata": {},
     "output_type": "execute_result"
    }
   ],
   "source": [
    "np.array([5.4, 6.7, 2.1]).dtype\n",
    "np.array([5, 6, 2]).dtype"
   ]
  },
  {
   "cell_type": "code",
   "execution_count": 4,
   "metadata": {},
   "outputs": [
    {
     "data": {
      "text/plain": [
       "dtype('<U15')"
      ]
     },
     "execution_count": 4,
     "metadata": {},
     "output_type": "execute_result"
    }
   ],
   "source": [
    "np.array([\"Hello, Oi, Yolo\"]).dtype"
   ]
  },
  {
   "cell_type": "code",
   "execution_count": 7,
   "metadata": {},
   "outputs": [],
   "source": [
    "#Subscreve os inteiros por float\n",
    "x = np.array([3,4,2.1])"
   ]
  },
  {
   "cell_type": "code",
   "execution_count": 8,
   "metadata": {},
   "outputs": [
    {
     "data": {
      "text/plain": [
       "3.0"
      ]
     },
     "execution_count": 8,
     "metadata": {},
     "output_type": "execute_result"
    }
   ],
   "source": [
    "#Transforma int em float\n",
    "x[0]"
   ]
  },
  {
   "cell_type": "code",
   "execution_count": 9,
   "metadata": {},
   "outputs": [
    {
     "data": {
      "text/plain": [
       "dtype('int32')"
      ]
     },
     "execution_count": 9,
     "metadata": {},
     "output_type": "execute_result"
    }
   ],
   "source": [
    "np.array([True,3,False]).dtype"
   ]
  },
  {
   "cell_type": "code",
   "execution_count": 10,
   "metadata": {},
   "outputs": [
    {
     "data": {
      "text/plain": [
       "array([3, 4, 2])"
      ]
     },
     "execution_count": 10,
     "metadata": {},
     "output_type": "execute_result"
    }
   ],
   "source": [
    "#Converteu de float para int\n",
    "x.astype(np.int32)"
   ]
  },
  {
   "cell_type": "markdown",
   "metadata": {},
   "source": [
    "##Manipulando array\n",
    "\n"
   ]
  },
  {
   "cell_type": "code",
   "execution_count": 5,
   "metadata": {},
   "outputs": [
    {
     "data": {
      "text/plain": [
       "4"
      ]
     },
     "execution_count": 5,
     "metadata": {},
     "output_type": "execute_result"
    }
   ],
   "source": [
    "arr = np.array([2,4,6,7,8])\n",
    "arr[1]"
   ]
  },
  {
   "cell_type": "code",
   "execution_count": 6,
   "metadata": {},
   "outputs": [
    {
     "data": {
      "text/plain": [
       "array([[ 2,  4,  6,  7,  8],\n",
       "       [ 1,  3,  5,  7,  9],\n",
       "       [10, 20, 30, 40, 50],\n",
       "       [11, 22, 33, 44, 55]])"
      ]
     },
     "execution_count": 6,
     "metadata": {},
     "output_type": "execute_result"
    }
   ],
   "source": [
    "cartela_bing = np.array([[2,4,6,7,8],[1,3,5,7,9],[10,20,30,40,50],[11,22,33,44,55]])\n",
    "cartela_bing"
   ]
  },
  {
   "cell_type": "code",
   "execution_count": 7,
   "metadata": {},
   "outputs": [
    {
     "data": {
      "text/plain": [
       "array([ 4,  3, 20, 22])"
      ]
     },
     "execution_count": 7,
     "metadata": {},
     "output_type": "execute_result"
    }
   ],
   "source": [
    "#Slice - Pega todas as linhas da segunda coluna\n",
    "cartela_bing[:,1]"
   ]
  },
  {
   "cell_type": "code",
   "execution_count": 10,
   "metadata": {},
   "outputs": [
    {
     "data": {
      "text/plain": [
       "array([[ 4],\n",
       "       [ 3],\n",
       "       [20],\n",
       "       [22]])"
      ]
     },
     "execution_count": 10,
     "metadata": {},
     "output_type": "execute_result"
    }
   ],
   "source": [
    "cartela_bing[:,1].reshape(4,1)"
   ]
  },
  {
   "cell_type": "code",
   "execution_count": 11,
   "metadata": {},
   "outputs": [
    {
     "data": {
      "text/plain": [
       "array([2, 4, 6, 7, 8])"
      ]
     },
     "execution_count": 11,
     "metadata": {},
     "output_type": "execute_result"
    }
   ],
   "source": [
    "#Primeira Linhas\n",
    "cartela_bing[0]"
   ]
  },
  {
   "cell_type": "code",
   "execution_count": 12,
   "metadata": {},
   "outputs": [
    {
     "data": {
      "text/plain": [
       "array([[ 2,  4,  6,  7,  8],\n",
       "       [ 1,  3,  5,  7,  9],\n",
       "       [10, 20, 30, 40, 50],\n",
       "       [11, 22, 33, 44, 55]])"
      ]
     },
     "execution_count": 12,
     "metadata": {},
     "output_type": "execute_result"
    }
   ],
   "source": [
    "#Organizou na ordem vertical\n",
    "np.sort(cartela_bing)"
   ]
  },
  {
   "cell_type": "code",
   "execution_count": 13,
   "metadata": {},
   "outputs": [
    {
     "data": {
      "text/plain": [
       "array([[ 1,  3,  5,  7,  8],\n",
       "       [ 2,  4,  6,  7,  9],\n",
       "       [10, 20, 30, 40, 50],\n",
       "       [11, 22, 33, 44, 55]])"
      ]
     },
     "execution_count": 13,
     "metadata": {},
     "output_type": "execute_result"
    }
   ],
   "source": [
    "#Organizou na ordem horizontal\n",
    "np.sort(cartela_bing, axis=0)"
   ]
  },
  {
   "cell_type": "markdown",
   "metadata": {},
   "source": [
    "#Atividade 1\n",
    "\n",
    "Como bióloga marinha,me encontrei em uma expedição nas profundezas do Oceano Pacífico,onde estávamos estudando a biodiversidade e a saúde dos recifes de coral.O catálogo abaixo demonstra dados das espécies encontradas,considere a seguinte ordem de colunas:\n",
    "\n",
    "**ID da espécie,quantidade de representantes encontrados,profundeza,tamanho médio da espécie.**\n",
    " \n",
    "a.Selecione a segunda coluna com a quantidade de espécies encontradas e adicione em um array as qtd_especies.\n",
    "b.De qtd_especies selecione apenas as primeiras 3 quantidades de espécies.\n",
    "c.Print as 5 últimas quantidades de espécies.\n",
    "d.Crie um array que contenha apenas os tamanhos das espécies e ordene por ordem crescente."
   ]
  },
  {
   "cell_type": "code",
   "execution_count": 15,
   "metadata": {},
   "outputs": [
    {
     "data": {
      "text/plain": [
       "array([[747,  89,  33,   5],\n",
       "       [623, 123,  32,  13],\n",
       "       [501,  22,  49,   2],\n",
       "       [116, 101,  42,  10],\n",
       "       [297,  56,  69,  22],\n",
       "       [613,  64,  27,   7],\n",
       "       [295,  84,  29,  14],\n",
       "       [692, 105,  72,  16],\n",
       "       [229, 103,  35,   5],\n",
       "       [374, 124,  70,   1]])"
      ]
     },
     "execution_count": 15,
     "metadata": {},
     "output_type": "execute_result"
    }
   ],
   "source": [
    "especies=np.array([[747,89,33,5],[623,123,32,13],\n",
    "                   [501,22,49,2],[116,101,42,10],\n",
    "                   [297,56,69,22],[613,64,27,7],\n",
    "                   [295,84,29,14],[692,105,72,16],\n",
    "                   [229,103,35,5],[374,124,70,1]])\n",
    "especies"
   ]
  },
  {
   "cell_type": "code",
   "execution_count": 16,
   "metadata": {},
   "outputs": [
    {
     "data": {
      "text/plain": [
       "array([ 89, 123,  22, 101,  56,  64,  84, 105, 103, 124])"
      ]
     },
     "execution_count": 16,
     "metadata": {},
     "output_type": "execute_result"
    }
   ],
   "source": [
    "#Resposta a\n",
    "#Seleciona apenas a segunda coluna\n",
    "qtd_especies = especies[:,1]\n",
    "qtd_especies"
   ]
  },
  {
   "cell_type": "code",
   "execution_count": 17,
   "metadata": {},
   "outputs": [
    {
     "name": "stdout",
     "output_type": "stream",
     "text": [
      "[ 89 123  22]\n"
     ]
    }
   ],
   "source": [
    "#Resposta b\n",
    "#De qtd_especies selecione apenas as primeiras 3 quantidades de espécies e print.\n",
    "print(qtd_especies[:3])"
   ]
  },
  {
   "cell_type": "code",
   "execution_count": 22,
   "metadata": {},
   "outputs": [
    {
     "name": "stdout",
     "output_type": "stream",
     "text": [
      "[ 64  84 105 103 124]\n"
     ]
    }
   ],
   "source": [
    "#Resposta c\n",
    "#Print as 5 ultimas quantidade de espécies \n",
    "print(qtd_especies[-5:])"
   ]
  },
  {
   "cell_type": "code",
   "execution_count": 25,
   "metadata": {},
   "outputs": [
    {
     "data": {
      "text/plain": [
       "array([ 1,  2,  5,  5,  7, 10, 13, 14, 16, 22])"
      ]
     },
     "execution_count": 25,
     "metadata": {},
     "output_type": "execute_result"
    }
   ],
   "source": [
    "#Resposta d\n",
    "#Crie um array que contenha apenas os tamanhos das espécies e ordene por ordem crescente.\n",
    "np.sort(especies[:,3])"
   ]
  },
  {
   "cell_type": "code",
   "execution_count": 26,
   "metadata": {},
   "outputs": [
    {
     "data": {
      "text/plain": [
       "array([22, 16, 14, 13, 10,  7,  5,  5,  2,  1])"
      ]
     },
     "execution_count": 26,
     "metadata": {},
     "output_type": "execute_result"
    }
   ],
   "source": [
    "#Ordem decrescente\n",
    "np.sort(especies[:,3])[::-1]"
   ]
  },
  {
   "cell_type": "markdown",
   "metadata": {},
   "source": [
    "#Filtrando Arrays\n",
    "\n",
    "Indexação sofisticada e máscara em array 2D"
   ]
  },
  {
   "cell_type": "code",
   "execution_count": 27,
   "metadata": {},
   "outputs": [
    {
     "data": {
      "text/plain": [
       "array([False, False,  True, False, False])"
      ]
     },
     "execution_count": 27,
     "metadata": {},
     "output_type": "execute_result"
    }
   ],
   "source": [
    "arr1 = np.array([1,2,3,4,5])\n",
    "mask = arr1 % 3 == 0\n",
    "mask"
   ]
  },
  {
   "cell_type": "code",
   "execution_count": 28,
   "metadata": {},
   "outputs": [
    {
     "data": {
      "text/plain": [
       "array([[ 1, 23],\n",
       "       [ 2, 45],\n",
       "       [ 3, 19],\n",
       "       [ 4, 32]])"
      ]
     },
     "execution_count": 28,
     "metadata": {},
     "output_type": "execute_result"
    }
   ],
   "source": [
    "pessoas_id_idade = np.array([[1, 23],[2, 45],[3, 19],[4, 32]])\n",
    "pessoas_id_idade"
   ]
  },
  {
   "cell_type": "code",
   "execution_count": 30,
   "metadata": {},
   "outputs": [],
   "source": [
    "mask_maior21 = pessoas_id_idade[:,1]>21"
   ]
  },
  {
   "cell_type": "code",
   "execution_count": 31,
   "metadata": {},
   "outputs": [
    {
     "data": {
      "text/plain": [
       "array([[ 1, 23],\n",
       "       [ 2, 45],\n",
       "       [ 4, 32]])"
      ]
     },
     "execution_count": 31,
     "metadata": {},
     "output_type": "execute_result"
    }
   ],
   "source": [
    "pessoas_id_idade[mask_maior21]"
   ]
  },
  {
   "cell_type": "code",
   "execution_count": 32,
   "metadata": {},
   "outputs": [
    {
     "data": {
      "text/plain": [
       "(array([0, 1, 3], dtype=int64),)"
      ]
     },
     "execution_count": 32,
     "metadata": {},
     "output_type": "execute_result"
    }
   ],
   "source": [
    "np.where(mask_maior21)"
   ]
  },
  {
   "cell_type": "code",
   "execution_count": 33,
   "metadata": {},
   "outputs": [
    {
     "data": {
      "text/plain": [
       "array([[ 2,  4,  6,  7,  8],\n",
       "       [ 1,  3,  5,  7,  9],\n",
       "       [10, 20, 30, 40, 50],\n",
       "       [11, 22, 33, 44, 55]])"
      ]
     },
     "execution_count": 33,
     "metadata": {},
     "output_type": "execute_result"
    }
   ],
   "source": [
    "cartela_bingo = np.array([[2,4,6,7,8],[1,3,5,7,9],\n",
    "                         [10,20,30,40,50],[11,22,33,44,55]])\n",
    "cartela_bingo"
   ]
  },
  {
   "cell_type": "code",
   "execution_count": 34,
   "metadata": {},
   "outputs": [
    {
     "data": {
      "text/plain": [
       "array([['2', '4', 'div3', '7', '8'],\n",
       "       ['1', 'div3', '5', '7', 'div3'],\n",
       "       ['10', '20', 'div3', '40', '50'],\n",
       "       ['11', '22', 'div3', '44', '55']], dtype='<U11')"
      ]
     },
     "execution_count": 34,
     "metadata": {},
     "output_type": "execute_result"
    }
   ],
   "source": [
    "#Se os numeros forem divisiveis por 3, substitua por \"div3\"\n",
    "np.where(cartela_bingo % 3 == 0,\"div3\", cartela_bingo)"
   ]
  },
  {
   "cell_type": "code",
   "execution_count": 35,
   "metadata": {},
   "outputs": [
    {
     "data": {
      "text/plain": [
       "array([['1', 'Maior de 21'],\n",
       "       ['2', 'Maior de 21'],\n",
       "       ['3', '19'],\n",
       "       ['4', 'Maior de 21']], dtype='<U11')"
      ]
     },
     "execution_count": 35,
     "metadata": {},
     "output_type": "execute_result"
    }
   ],
   "source": [
    "#Se a idade for maios que 21, substitua por \"Maior de 21\"\n",
    "np.where(pessoas_id_idade > 21, \"Maior de 21\", pessoas_id_idade)"
   ]
  },
  {
   "cell_type": "markdown",
   "metadata": {},
   "source": [
    "#Atividade 2\n",
    "\n",
    "##Ainda usando o Array de espécies marítimas.\n",
    "\n",
    "a.Usando um index boolean crie um array que contém os dados da maior espécie encontrada (considerando o seu tamanho),esse valor corresponde ao valor 22.\n",
    "b.Usando fency index faça um array que contém apenas dados da espécie com ID 297.\n",
    "c.Usando np.where()faça um array com a linha com dados correspondentes a espécie com 105 representantes encontrados.\n",
    "d.Considere a profundeza em que o espécie foi encontrada substitua valores maiores que 60 com \"Profundo”."
   ]
  },
  {
   "cell_type": "code",
   "execution_count": 36,
   "metadata": {},
   "outputs": [
    {
     "data": {
      "text/plain": [
       "array([[747,  89,  33,   5],\n",
       "       [623, 123,  32,  13],\n",
       "       [501,  22,  49,   2],\n",
       "       [116, 101,  42,  10],\n",
       "       [297,  56,  69,  22],\n",
       "       [613,  64,  27,   7],\n",
       "       [295,  84,  29,  14],\n",
       "       [692, 105,  72,  16],\n",
       "       [229, 103,  35,   5],\n",
       "       [374, 124,  70,   1]])"
      ]
     },
     "execution_count": 36,
     "metadata": {},
     "output_type": "execute_result"
    }
   ],
   "source": [
    "especies=np.array([[747,89,33,5],[623,123,32,13],\n",
    "                   [501,22,49,2],[116,101,42,10],\n",
    "                   [297,56,69,22],[613,64,27,7],\n",
    "                   [295,84,29,14],[692,105,72,16],\n",
    "                   [229,103,35,5],[374,124,70,1]])\n",
    "especies"
   ]
  },
  {
   "cell_type": "code",
   "execution_count": 38,
   "metadata": {},
   "outputs": [],
   "source": [
    "#Resposta a\n",
    "#Usando um index boolean crie um array que contém os dados da maior espécie encontrada (considerando o seu tamanho),esse valor corresponde ao valor 22.\n",
    "maior_especie = especies[especies[:,3] == 22]"
   ]
  },
  {
   "cell_type": "code",
   "execution_count": 39,
   "metadata": {},
   "outputs": [
    {
     "data": {
      "text/plain": [
       "array([[297,  56,  69,  22]])"
      ]
     },
     "execution_count": 39,
     "metadata": {},
     "output_type": "execute_result"
    }
   ],
   "source": [
    "#Resposta b\n",
    "#Usando fency index faça um array que contém apenas dados da espécie com ID 297.\n",
    "especie_297 = especies[especies[:,0] == 297]\n",
    "especie_297"
   ]
  },
  {
   "cell_type": "code",
   "execution_count": 42,
   "metadata": {},
   "outputs": [
    {
     "data": {
      "text/plain": [
       "array([[692, 105,  72,  16]])"
      ]
     },
     "execution_count": 42,
     "metadata": {},
     "output_type": "execute_result"
    }
   ],
   "source": [
    "#Resposta c\n",
    "#Usando np.where()faça um array com a linha com dados correspondentes a espécie com 105 representantes encontrados.\n",
    "especies[np.where(especies[:,1] == 105)]"
   ]
  },
  {
   "cell_type": "code",
   "execution_count": 45,
   "metadata": {},
   "outputs": [
    {
     "data": {
      "text/plain": [
       "array(['33', '32', '49', '42', 'Profundo', '27', '29', 'Profundo', '35',\n",
       "       'Profundo'], dtype='<U11')"
      ]
     },
     "execution_count": 45,
     "metadata": {},
     "output_type": "execute_result"
    }
   ],
   "source": [
    "#Resposta d\n",
    "#Considere a profundeza em que o espécie foi encontrada substitua valores maiores que 60 com \"Profundo”.\n",
    "np.where(especies[:,2] > 60, \"Profundo\", especies[:,2])"
   ]
  },
  {
   "cell_type": "markdown",
   "metadata": {},
   "source": [
    "#Adicionando e Removendo dados do array"
   ]
  },
  {
   "cell_type": "code",
   "execution_count": 46,
   "metadata": {},
   "outputs": [
    {
     "data": {
      "text/plain": [
       "array([[ 2,  4,  6,  7,  8],\n",
       "       [ 1,  3,  5,  7,  9],\n",
       "       [10, 20, 30, 40, 50],\n",
       "       [11, 22, 33, 44, 55]])"
      ]
     },
     "execution_count": 46,
     "metadata": {},
     "output_type": "execute_result"
    }
   ],
   "source": [
    "cartela_bingo = np.array([[2,4,6,7,8],[1,3,5,7,9],\n",
    "                         [10,20,30,40,50],[11,22,33,44,55]])\n",
    "cartela_bingo"
   ]
  },
  {
   "cell_type": "code",
   "execution_count": 52,
   "metadata": {},
   "outputs": [
    {
     "data": {
      "text/plain": [
       "array([[ 2,  4,  6,  7,  8],\n",
       "       [ 1,  3,  5,  7,  9],\n",
       "       [10, 20, 30, 40, 50],\n",
       "       [11, 22, 33, 44, 55]])"
      ]
     },
     "execution_count": 52,
     "metadata": {},
     "output_type": "execute_result"
    }
   ],
   "source": [
    "cartela_bingo1 = cartela_bingo[:3]\n",
    "cartela_bingo2 = cartela_bingo[-1:]\n",
    "cartela_bingo = np.concatenate((cartela_bingo1,cartela_bingo2))\n",
    "cartela_bingo"
   ]
  },
  {
   "cell_type": "code",
   "execution_count": 53,
   "metadata": {},
   "outputs": [
    {
     "data": {
      "text/plain": [
       "array([['1', '30', '1', 'Alice'],\n",
       "       ['2', '45', '1', 'Bob'],\n",
       "       ['3', '19', '3', 'Charlie'],\n",
       "       ['4', '32', '3', 'David']], dtype='<U11')"
      ]
     },
     "execution_count": 53,
     "metadata": {},
     "output_type": "execute_result"
    }
   ],
   "source": [
    "sala_espera = np.array([[1, 30, 1, \"Alice\"],\n",
    "                        [2, 45, 1, \"Bob\"],\n",
    "                        [3, 19, 3, \"Charlie\"],\n",
    "                        [4, 32, 3, \"David\"],])\n",
    "sala_espera"
   ]
  },
  {
   "cell_type": "code",
   "execution_count": 54,
   "metadata": {},
   "outputs": [
    {
     "data": {
      "text/plain": [
       "array([['1', '30', '1', 'Alice'],\n",
       "       ['2', '45', '1', 'Bob'],\n",
       "       ['3', '19', '3', 'Charlie']], dtype='<U11')"
      ]
     },
     "execution_count": 54,
     "metadata": {},
     "output_type": "execute_result"
    }
   ],
   "source": [
    "np.delete(sala_espera, 3, axis=0)"
   ]
  },
  {
   "cell_type": "markdown",
   "metadata": {},
   "source": [
    "#Atividade 3\n",
    "\n",
    "Ainda no conjunto 'especies.\n",
    "a.Adicione mais 2 espécies ao array: [[204,10,40,12],[392,11,81,11]].b.Adicione mais uma coluna no array original agora com o número de espécies encontradas com que indica se o animal enxerga ou não: [0,1,0,0,0,0,1,0,1,1,0]."
   ]
  },
  {
   "cell_type": "code",
   "execution_count": 57,
   "metadata": {},
   "outputs": [
    {
     "data": {
      "text/plain": [
       "array([[747,  89,  33,   5],\n",
       "       [623, 123,  32,  13],\n",
       "       [501,  22,  49,   2],\n",
       "       [116, 101,  42,  10],\n",
       "       [297,  56,  69,  22],\n",
       "       [613,  64,  27,   7],\n",
       "       [295,  84,  29,  14],\n",
       "       [692, 105,  72,  16],\n",
       "       [229, 103,  35,   5],\n",
       "       [374, 124,  70,   1],\n",
       "       [204,  10,  40,  12],\n",
       "       [392,  11,  81,  11]])"
      ]
     },
     "execution_count": 57,
     "metadata": {},
     "output_type": "execute_result"
    }
   ],
   "source": [
    "#Resposta a\n",
    "#Adicione mais 2 espécies ao array: [[204,10,40,12],[392,11,81,11]]\n",
    "novas_especies = np.array([[204,10,40,12],[392,11,81,11]]) \n",
    "np.concatenate((especies,novas_especies))"
   ]
  },
  {
   "cell_type": "code",
   "execution_count": 63,
   "metadata": {},
   "outputs": [
    {
     "data": {
      "text/plain": [
       "array([[747,  89,  33,   5,   0],\n",
       "       [623, 123,  32,  13,   1],\n",
       "       [501,  22,  49,   2,   0],\n",
       "       [116, 101,  42,  10,   0],\n",
       "       [297,  56,  69,  22,   0],\n",
       "       [613,  64,  27,   7,   0],\n",
       "       [295,  84,  29,  14,   1],\n",
       "       [692, 105,  72,  16,   0],\n",
       "       [229, 103,  35,   5,   1],\n",
       "       [374, 124,  70,   1,   1]])"
      ]
     },
     "execution_count": 63,
     "metadata": {},
     "output_type": "execute_result"
    }
   ],
   "source": [
    "#Resposta b\n",
    "#Adicione mais uma coluna no array original agora com o número de espécies encontradas com que indica se o animal enxerga ou não: [0,1,0,0,0,0,1,0,1,1,0].\n",
    "ver = np.array([[0],[1],[0],[0],[0],[0],[1],[0],[1],[1]]).reshape(10,1)\n",
    "ver\n",
    "np.concatenate((especies,ver),axis=1)"
   ]
  },
  {
   "cell_type": "markdown",
   "metadata": {},
   "source": [
    "#Vetorização\n",
    "\n"
   ]
  }
 ],
 "metadata": {
  "kernelspec": {
   "display_name": "base",
   "language": "python",
   "name": "python3"
  },
  "language_info": {
   "codemirror_mode": {
    "name": "ipython",
    "version": 3
   },
   "file_extension": ".py",
   "mimetype": "text/x-python",
   "name": "python",
   "nbconvert_exporter": "python",
   "pygments_lexer": "ipython3",
   "version": "3.9.13"
  }
 },
 "nbformat": 4,
 "nbformat_minor": 2
}
