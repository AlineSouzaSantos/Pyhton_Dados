{
 "cells": [
  {
   "cell_type": "markdown",
   "metadata": {},
   "source": [
    "#Array 3D\n",
    "\n",
    "If a 1D array is just a regular array, and a 2D array is an array of arrays, then a 3D array is an array of arrays of arrays. Every additional dimension just gets you more deeply nested arrays. "
   ]
  },
  {
   "cell_type": "code",
   "execution_count": 1,
   "metadata": {},
   "outputs": [],
   "source": [
    "import numpy as np"
   ]
  },
  {
   "cell_type": "code",
   "execution_count": 2,
   "metadata": {},
   "outputs": [],
   "source": [
    "arr1_2d = np.array([[1, 2], [3,4]])\n",
    "arr2_2d = np.array([[5, 6], [7, 8]])\n",
    "arr3_2d = np.array([[9, 2], [3, 4]])\n",
    "\n",
    "arr_3d = np.array([arr1_2d, arr2_2d, arr3_2d])"
   ]
  },
  {
   "cell_type": "code",
   "execution_count": 3,
   "metadata": {},
   "outputs": [
    {
     "data": {
      "text/plain": [
       "array([[[1, 2],\n",
       "        [3, 4]],\n",
       "\n",
       "       [[5, 6],\n",
       "        [7, 8]],\n",
       "\n",
       "       [[9, 2],\n",
       "        [3, 4]]])"
      ]
     },
     "execution_count": 3,
     "metadata": {},
     "output_type": "execute_result"
    }
   ],
   "source": [
    "arr_3d"
   ]
  },
  {
   "cell_type": "code",
   "execution_count": 10,
   "metadata": {},
   "outputs": [
    {
     "data": {
      "text/plain": [
       "array([1, 2, 3, 4, 5, 6, 7, 8, 9, 2, 3, 4, 1, 2, 3, 4, 5, 6, 7, 8, 9, 2,\n",
       "       3, 4])"
      ]
     },
     "execution_count": 10,
     "metadata": {},
     "output_type": "execute_result"
    }
   ],
   "source": [
    "arr1 = np.array([arr_3d, arr_3d])\n",
    "arr1.flatten()"
   ]
  },
  {
   "cell_type": "code",
   "execution_count": 8,
   "metadata": {},
   "outputs": [
    {
     "data": {
      "text/plain": [
       "(3, 4, 2)"
      ]
     },
     "execution_count": 8,
     "metadata": {},
     "output_type": "execute_result"
    }
   ],
   "source": [
    "arr = np.zeros((3,4,2))\n",
    "arr.shape"
   ]
  },
  {
   "cell_type": "code",
   "execution_count": 9,
   "metadata": {},
   "outputs": [
    {
     "data": {
      "text/plain": [
       "array([0., 0., 0., 0., 0., 0., 0., 0., 0., 0., 0., 0., 0., 0., 0., 0., 0.,\n",
       "       0., 0., 0., 0., 0., 0., 0.])"
      ]
     },
     "execution_count": 9,
     "metadata": {},
     "output_type": "execute_result"
    }
   ],
   "source": [
    "arr.flatten()"
   ]
  },
  {
   "cell_type": "code",
   "execution_count": 12,
   "metadata": {},
   "outputs": [
    {
     "data": {
      "text/plain": [
       "array([[1, 2, 3],\n",
       "       [4, 5, 6],\n",
       "       [7, 8, 9],\n",
       "       [2, 3, 4]])"
      ]
     },
     "execution_count": 12,
     "metadata": {},
     "output_type": "execute_result"
    }
   ],
   "source": [
    "arr_3d.reshape((4,3))"
   ]
  },
  {
   "cell_type": "markdown",
   "metadata": {},
   "source": [
    "#Atividade 1:\n",
    "\n",
    "##Reduza o array (5,7) a apenas uma dimensão"
   ]
  },
  {
   "cell_type": "code",
   "execution_count": 18,
   "metadata": {},
   "outputs": [
    {
     "data": {
      "text/plain": [
       "array([0.50301587, 0.30807473, 0.77348698, 0.10235967, 0.12349604,\n",
       "       0.01132796, 0.76911425, 0.37024206, 0.59601964, 0.95103542,\n",
       "       0.81967488, 0.87094076, 0.07886689, 0.79187719, 0.27269464,\n",
       "       0.84361207, 0.50000741, 0.76124294, 0.49924619, 0.18957942,\n",
       "       0.53025914, 0.12274273, 0.90913981, 0.06051948, 0.88334266,\n",
       "       0.30002698, 0.67345343, 0.46441198, 0.29992549, 0.83475184,\n",
       "       0.75548447, 0.78526243, 0.30603642, 0.7941573 , 0.36726273])"
      ]
     },
     "execution_count": 18,
     "metadata": {},
     "output_type": "execute_result"
    }
   ],
   "source": [
    "a57 = np.random.random((5,7))\n",
    "a57 = a57.flatten()\n",
    "a57"
   ]
  },
  {
   "cell_type": "markdown",
   "metadata": {},
   "source": [
    "#Atividade 2:\n",
    "\n",
    "##Considerando que você é uma organizadora de um jogo de bingo.Crie um array que irá representar a cartilha desses jogos de bingo. Os números das suas cartelas variam entre 1 e 30 e você terá 10 participantes. Cada cartela terá 12 números (4,3). Crie um array que represente esse jogo."
   ]
  },
  {
   "cell_type": "code",
   "execution_count": 20,
   "metadata": {},
   "outputs": [
    {
     "data": {
      "text/plain": [
       "array([[[12, 22, 24],\n",
       "        [14,  6, 26],\n",
       "        [19, 21, 22],\n",
       "        [17,  2, 14]],\n",
       "\n",
       "       [[ 4,  1, 22],\n",
       "        [15, 18, 28],\n",
       "        [10, 21,  4],\n",
       "        [24, 19,  7]],\n",
       "\n",
       "       [[17,  3, 26],\n",
       "        [25, 13,  6],\n",
       "        [15, 19, 18],\n",
       "        [25,  6, 12]],\n",
       "\n",
       "       [[15, 25, 28],\n",
       "        [30, 16,  9],\n",
       "        [ 7, 18,  6],\n",
       "        [ 7,  7,  9]],\n",
       "\n",
       "       [[13, 15, 21],\n",
       "        [25,  5, 11],\n",
       "        [23, 17,  1],\n",
       "        [ 7,  8, 23]],\n",
       "\n",
       "       [[16, 29, 20],\n",
       "        [ 1,  4, 23],\n",
       "        [21, 29, 26],\n",
       "        [28, 10,  3]],\n",
       "\n",
       "       [[27, 10, 27],\n",
       "        [28,  9, 12],\n",
       "        [14, 29, 13],\n",
       "        [ 8,  1, 13]],\n",
       "\n",
       "       [[25, 30,  3],\n",
       "        [19, 29,  1],\n",
       "        [10, 17, 10],\n",
       "        [ 5, 16,  2]],\n",
       "\n",
       "       [[11, 28, 14],\n",
       "        [25, 14, 16],\n",
       "        [17, 20,  3],\n",
       "        [18, 14,  5]],\n",
       "\n",
       "       [[22, 19, 17],\n",
       "        [ 6, 12, 23],\n",
       "        [22,  6, 27],\n",
       "        [ 9, 21, 17]]])"
      ]
     },
     "execution_count": 20,
     "metadata": {},
     "output_type": "execute_result"
    }
   ],
   "source": [
    "bingo = np.random.randint(1, 31,size= (10,4,3))\n",
    "bingo"
   ]
  },
  {
   "cell_type": "markdown",
   "metadata": {},
   "source": [
    "#Atividade 3?\n",
    "\n",
    "##Faça o reshape das suas cartelas para que haja 5 cartelas de 4 linhas e 6 colunas."
   ]
  },
  {
   "cell_type": "code",
   "execution_count": 23,
   "metadata": {},
   "outputs": [
    {
     "data": {
      "text/plain": [
       "array([[[23, 18, 28,  3, 18, 21],\n",
       "        [ 3, 23, 10, 20,  4, 18],\n",
       "        [ 6, 25,  8, 22, 10, 26],\n",
       "        [29, 28, 21, 23,  1, 27]],\n",
       "\n",
       "       [[11, 27, 25, 24, 15, 18],\n",
       "        [ 3,  6, 18,  6, 20, 22],\n",
       "        [19, 30, 18,  7, 10, 29],\n",
       "        [14, 22,  5,  6, 23, 22]],\n",
       "\n",
       "       [[21,  8, 17,  9, 16, 28],\n",
       "        [25, 16,  4,  7, 12, 11],\n",
       "        [ 8,  9, 28, 16, 17, 24],\n",
       "        [15,  4, 30, 18, 15, 22]],\n",
       "\n",
       "       [[27, 11, 16,  5, 24, 17],\n",
       "        [19, 19,  1, 29, 28,  4],\n",
       "        [22, 29, 28,  1, 20, 28],\n",
       "        [ 6, 11, 24, 20,  5,  1]],\n",
       "\n",
       "       [[28,  2,  8,  5, 22, 13],\n",
       "        [23,  5, 16, 20,  9,  3],\n",
       "        [25, 28, 16,  6, 10,  7],\n",
       "        [ 9, 16, 17,  3, 18, 18]]])"
      ]
     },
     "execution_count": 23,
     "metadata": {},
     "output_type": "execute_result"
    }
   ],
   "source": [
    "bingo.reshape((5,4,6))\n",
    "bingo"
   ]
  }
 ],
 "metadata": {
  "kernelspec": {
   "display_name": "base",
   "language": "python",
   "name": "python3"
  },
  "language_info": {
   "codemirror_mode": {
    "name": "ipython",
    "version": 3
   },
   "file_extension": ".py",
   "mimetype": "text/x-python",
   "name": "python",
   "nbconvert_exporter": "python",
   "pygments_lexer": "ipython3",
   "version": "3.9.13"
  }
 },
 "nbformat": 4,
 "nbformat_minor": 2
}
